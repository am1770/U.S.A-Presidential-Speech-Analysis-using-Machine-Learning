{
 "cells": [
  {
   "cell_type": "markdown",
   "id": "e5ae872b",
   "metadata": {},
   "source": [
    "# Problem 2:\n",
    "\n",
    "### In this particular project, we are going to work on the inaugural corpora from the nltk in Python. We will be looking at the following speeches of the Presidents of the United States of America:\n",
    "\n",
    "President Franklin D. Roosevelt in 1941\n",
    "\n",
    "President John F. Kennedy in 1961\n",
    "\n",
    "President Richard Nixon in 1973\n",
    "\n",
    "(Hint: use .words(), .raw(), .sent() for extracting counts)"
   ]
  },
  {
   "cell_type": "markdown",
   "id": "45c81cd4",
   "metadata": {},
   "source": [
    "#Code Snippet to extract the three speeches:\n",
    "\n",
    "\"\n",
    "#import nltk\n",
    "\n",
    "#nltk.download('inaugural')\n",
    "\n",
    "#from nltk.corpus import inaugural\n",
    "\n",
    "#inaugural.fileids()\n",
    "\n",
    "#inaugural.raw('1941-Roosevelt.txt')\n",
    "\n",
    "#inaugural.raw('1961-Kennedy.txt')\n",
    "\n",
    "#inaugural.raw('1973-Nixon.txt')"
   ]
  },
  {
   "cell_type": "code",
   "execution_count": 1,
   "id": "3d24c29f",
   "metadata": {},
   "outputs": [],
   "source": [
    "import numpy as np\n",
    "import pandas as pd\n",
    "import os\n",
    "import warnings \n",
    "warnings.filterwarnings( \"ignore\")"
   ]
  },
  {
   "cell_type": "code",
   "execution_count": 2,
   "id": "2c44129b",
   "metadata": {},
   "outputs": [
    {
     "name": "stdout",
     "output_type": "stream",
     "text": [
      "Requirement already satisfied: nltk in c:\\users\\adil\\anaconda3\\lib\\site-packages (3.8.1)\n",
      "Requirement already satisfied: click in c:\\users\\adil\\anaconda3\\lib\\site-packages (from nltk) (8.0.4)\n",
      "Requirement already satisfied: joblib in c:\\users\\adil\\anaconda3\\lib\\site-packages (from nltk) (1.2.0)\n",
      "Requirement already satisfied: regex>=2021.8.3 in c:\\users\\adil\\anaconda3\\lib\\site-packages (from nltk) (2022.7.9)\n",
      "Requirement already satisfied: tqdm in c:\\users\\adil\\anaconda3\\lib\\site-packages (from nltk) (4.65.0)\n",
      "Requirement already satisfied: colorama in c:\\users\\adil\\anaconda3\\lib\\site-packages (from click->nltk) (0.4.6)\n"
     ]
    }
   ],
   "source": [
    "!pip install nltk"
   ]
  },
  {
   "cell_type": "code",
   "execution_count": 3,
   "id": "f4af44f8",
   "metadata": {},
   "outputs": [
    {
     "name": "stdout",
     "output_type": "stream",
     "text": [
      "showing info https://raw.githubusercontent.com/nltk/nltk_data/gh-pages/index.xml\n"
     ]
    },
    {
     "data": {
      "text/plain": [
       "True"
      ]
     },
     "execution_count": 3,
     "metadata": {},
     "output_type": "execute_result"
    }
   ],
   "source": [
    "import nltk\n",
    "nltk.download()"
   ]
  },
  {
   "cell_type": "code",
   "execution_count": 4,
   "id": "40b091f5",
   "metadata": {},
   "outputs": [
    {
     "name": "stderr",
     "output_type": "stream",
     "text": [
      "[nltk_data] Downloading package inaugural to\n",
      "[nltk_data]     C:\\Users\\ADIL\\AppData\\Roaming\\nltk_data...\n",
      "[nltk_data]   Package inaugural is already up-to-date!\n"
     ]
    },
    {
     "data": {
      "text/plain": [
       "['1789-Washington.txt',\n",
       " '1793-Washington.txt',\n",
       " '1797-Adams.txt',\n",
       " '1801-Jefferson.txt',\n",
       " '1805-Jefferson.txt',\n",
       " '1809-Madison.txt',\n",
       " '1813-Madison.txt',\n",
       " '1817-Monroe.txt',\n",
       " '1821-Monroe.txt',\n",
       " '1825-Adams.txt',\n",
       " '1829-Jackson.txt',\n",
       " '1833-Jackson.txt',\n",
       " '1837-VanBuren.txt',\n",
       " '1841-Harrison.txt',\n",
       " '1845-Polk.txt',\n",
       " '1849-Taylor.txt',\n",
       " '1853-Pierce.txt',\n",
       " '1857-Buchanan.txt',\n",
       " '1861-Lincoln.txt',\n",
       " '1865-Lincoln.txt',\n",
       " '1869-Grant.txt',\n",
       " '1873-Grant.txt',\n",
       " '1877-Hayes.txt',\n",
       " '1881-Garfield.txt',\n",
       " '1885-Cleveland.txt',\n",
       " '1889-Harrison.txt',\n",
       " '1893-Cleveland.txt',\n",
       " '1897-McKinley.txt',\n",
       " '1901-McKinley.txt',\n",
       " '1905-Roosevelt.txt',\n",
       " '1909-Taft.txt',\n",
       " '1913-Wilson.txt',\n",
       " '1917-Wilson.txt',\n",
       " '1921-Harding.txt',\n",
       " '1925-Coolidge.txt',\n",
       " '1929-Hoover.txt',\n",
       " '1933-Roosevelt.txt',\n",
       " '1937-Roosevelt.txt',\n",
       " '1941-Roosevelt.txt',\n",
       " '1945-Roosevelt.txt',\n",
       " '1949-Truman.txt',\n",
       " '1953-Eisenhower.txt',\n",
       " '1957-Eisenhower.txt',\n",
       " '1961-Kennedy.txt',\n",
       " '1965-Johnson.txt',\n",
       " '1969-Nixon.txt',\n",
       " '1973-Nixon.txt',\n",
       " '1977-Carter.txt',\n",
       " '1981-Reagan.txt',\n",
       " '1985-Reagan.txt',\n",
       " '1989-Bush.txt',\n",
       " '1993-Clinton.txt',\n",
       " '1997-Clinton.txt',\n",
       " '2001-Bush.txt',\n",
       " '2005-Bush.txt',\n",
       " '2009-Obama.txt',\n",
       " '2013-Obama.txt',\n",
       " '2017-Trump.txt',\n",
       " '2021-Biden.txt']"
      ]
     },
     "execution_count": 4,
     "metadata": {},
     "output_type": "execute_result"
    }
   ],
   "source": [
    "nltk.download('inaugural')\n",
    "\n",
    "from nltk.corpus import inaugural\n",
    "\n",
    "inaugural.fileids()"
   ]
  },
  {
   "cell_type": "code",
   "execution_count": 5,
   "id": "3114af22",
   "metadata": {},
   "outputs": [
    {
     "data": {
      "text/plain": [
       "'On each national day of inauguration since 1789, the people have renewed their sense of dedication to the United States.\\n\\nIn Washington\\'s day the task of the people was to create and weld together a nation.\\n\\nIn Lincoln\\'s day the task of the people was to preserve that Nation from disruption from within.\\n\\nIn this day the task of the people is to save that Nation and its institutions from disruption from without.\\n\\nTo us there has come a time, in the midst of swift happenings, to pause for a moment and take stock -- to recall what our place in history has been, and to rediscover what we are and what we may be. If we do not, we risk the real peril of inaction.\\n\\nLives of nations are determined not by the count of years, but by the lifetime of the human spirit. The life of a man is three-score years and ten: a little more, a little less. The life of a nation is the fullness of the measure of its will to live.\\n\\nThere are men who doubt this. There are men who believe that democracy, as a form of Government and a frame of life, is limited or measured by a kind of mystical and artificial fate that, for some unexplained reason, tyranny and slavery have become the surging wave of the future -- and that freedom is an ebbing tide.\\n\\nBut we Americans know that this is not true.\\n\\nEight years ago, when the life of this Republic seemed frozen by a fatalistic terror, we proved that this is not true. We were in the midst of shock -- but we acted. We acted quickly, boldly, decisively.\\n\\nThese later years have been living years -- fruitful years for the people of this democracy. For they have brought to us greater security and, I hope, a better understanding that life\\'s ideals are to be measured in other than material things.\\n\\nMost vital to our present and our future is this experience of a democracy which successfully survived crisis at home; put away many evil things; built new structures on enduring lines; and, through it all, maintained the fact of its democracy.\\n\\nFor action has been taken within the three-way framework of the Constitution of the United States. The coordinate branches of the Government continue freely to function. The Bill of Rights remains inviolate. The freedom of elections is wholly maintained. Prophets of the downfall of American democracy have seen their dire predictions come to naught.\\n\\nDemocracy is not dying.\\n\\nWe know it because we have seen it revive--and grow.\\n\\nWe know it cannot die -- because it is built on the unhampered initiative of individual men and women joined together in a common enterprise -- an enterprise undertaken and carried through by the free expression of a free majority.\\n\\nWe know it because democracy alone, of all forms of government, enlists the full force of men\\'s enlightened will.\\n\\nWe know it because democracy alone has constructed an unlimited civilization capable of infinite progress in the improvement of human life.\\n\\nWe know it because, if we look below the surface, we sense it still spreading on every continent -- for it is the most humane, the most advanced, and in the end the most unconquerable of all forms of human society.\\n\\nA nation, like a person, has a body--a body that must be fed and clothed and housed, invigorated and rested, in a manner that measures up to the objectives of our time.\\n\\nA nation, like a person, has a mind -- a mind that must be kept informed and alert, that must know itself, that understands the hopes and the needs of its neighbors -- all the other nations that live within the narrowing circle of the world.\\n\\nAnd a nation, like a person, has something deeper, something more permanent, something larger than the sum of all its parts. It is that something which matters most to its future -- which calls forth the most sacred guarding of its present.\\n\\nIt is a thing for which we find it difficult -- even impossible -- to hit upon a single, simple word.\\n\\nAnd yet we all understand what it is -- the spirit -- the faith of America. It is the product of centuries. It was born in the multitudes of those who came from many lands -- some of high degree, but mostly plain people, who sought here, early and late, to find freedom more freely.\\n\\nThe democratic aspiration is no mere recent phase in human history. It is human history. It permeated the ancient life of early peoples. It blazed anew in the middle ages. It was written in Magna Charta.\\n\\nIn the Americas its impact has been irresistible. America has been the New World in all tongues, to all peoples, not because this continent was a new-found land, but because all those who came here believed they could create upon this continent a new life -- a life that should be new in freedom.\\n\\nIts vitality was written into our own Mayflower Compact, into the Declaration of Independence, into the Constitution of the United States, into the Gettysburg Address.\\n\\nThose who first came here to carry out the longings of their spirit, and the millions who followed, and the stock that sprang from them -- all have moved forward constantly and consistently toward an ideal which in itself has gained stature and clarity with each generation.\\n\\nThe hopes of the Republic cannot forever tolerate either undeserved poverty or self-serving wealth.\\n\\nWe know that we still have far to go; that we must more greatly build the security and the opportunity and the knowledge of every citizen, in the measure justified by the resources and the capacity of the land.\\n\\nBut it is not enough to achieve these purposes alone. It is not enough to clothe and feed the body of this Nation, and instruct and inform its mind. For there is also the spirit. And of the three, the greatest is the spirit.\\n\\nWithout the body and the mind, as all men know, the Nation could not live.\\n\\nBut if the spirit of America were killed, even though the Nation\\'s body and mind, constricted in an alien world, lived on, the America we know would have perished.\\n\\nThat spirit -- that faith -- speaks to us in our daily lives in ways often unnoticed, because they seem so obvious. It speaks to us here in the Capital of the Nation. It speaks to us through the processes of governing in the sovereignties of 48 States. It speaks to us in our counties, in our cities, in our towns, and in our villages. It speaks to us from the other nations of the hemisphere, and from those across the seas -- the enslaved, as well as the free. Sometimes we fail to hear or heed these voices of freedom because to us the privilege of our freedom is such an old, old story.\\n\\nThe destiny of America was proclaimed in words of prophecy spoken by our first President in his first inaugural in 1789 -- words almost directed, it would seem, to this year of 1941: \"The preservation of the sacred fire of liberty and the destiny of the republican model of government are justly considered deeply, finally, staked on the experiment intrusted to the hands of the American people.\"\\n\\nIf we lose that sacred fire--if we let it be smothered with doubt and fear -- then we shall reject the destiny which Washington strove so valiantly and so triumphantly to establish. The preservation of the spirit and faith of the Nation does, and will, furnish the highest justification for every sacrifice that we may make in the cause of national defense.\\n\\nIn the face of great perils never before encountered, our strong purpose is to protect and to perpetuate the integrity of democracy.\\n\\nFor this we muster the spirit of America, and the faith of America.\\n\\nWe do not retreat. We are not content to stand still. As Americans, we go forward, in the service of our country, by the will of God.\\n'"
      ]
     },
     "execution_count": 5,
     "metadata": {},
     "output_type": "execute_result"
    }
   ],
   "source": [
    "R=inaugural.raw('1941-Roosevelt.txt')\n",
    "R"
   ]
  },
  {
   "cell_type": "code",
   "execution_count": 6,
   "id": "2c56cf3b",
   "metadata": {},
   "outputs": [
    {
     "data": {
      "text/plain": [
       "'Vice President Johnson, Mr. Speaker, Mr. Chief Justice, President Eisenhower, Vice President Nixon, President Truman, reverend clergy, fellow citizens, we observe today not a victory of party, but a celebration of freedom -- symbolizing an end, as well as a beginning -- signifying renewal, as well as change. For I have sworn I before you and Almighty God the same solemn oath our forebears l prescribed nearly a century and three quarters ago.\\n\\nThe world is very different now. For man holds in his mortal hands the power to abolish all forms of human poverty and all forms of human life. And yet the same revolutionary beliefs for which our forebears fought are still at issue around the globe -- the belief that the rights of man come not from the generosity of the state, but from the hand of God.\\n\\nWe dare not forget today that we are the heirs of that first revolution. Let the word go forth from this time and place, to friend and foe alike, that the torch has been passed to a new generation of Americans -- born in this century, tempered by war, disciplined by a hard and bitter peace, proud of our ancient heritage -- and unwilling to witness or permit the slow undoing of those human rights to which this Nation has always been committed, and to which we are committed today at home and around the world.\\n\\nLet every nation know, whether it wishes us well or ill, that we shall pay any price, bear any burden, meet any hardship, support any friend, oppose any foe, in order to assure the survival and the success of liberty.\\n\\nThis much we pledge -- and more.\\n\\nTo those old allies whose cultural and spiritual origins we share, we pledge the loyalty of faithful friends. United, there is little we cannot do in a host of cooperative ventures. Divided, there is little we can do -- for we dare not meet a powerful challenge at odds and split asunder.\\n\\nTo those new States whom we welcome to the ranks of the free, we pledge our word that one form of colonial control shall not have passed away merely to be replaced by a far more iron tyranny. We shall not always expect to find them supporting our view. But we shall always hope to find them strongly supporting their own freedom -- and to remember that, in the past, those who foolishly sought power by riding the back of the tiger ended up inside.\\n\\nTo those peoples in the huts and villages across the globe struggling to break the bonds of mass misery, we pledge our best efforts to help them help themselves, for whatever period is required -- not because the Communists may be doing it, not because we seek their votes, but because it is right. If a free society cannot help the many who are poor, it cannot save the few who are rich.\\n\\nTo our sister republics south of our border, we offer a special pledge -- to convert our good words into good deeds -- in a new alliance for progress -- to assist free men and free governments in casting off the chains of poverty. But this peaceful revolution of hope cannot become the prey of hostile powers. Let all our neighbors know that we shall join with them to oppose aggression or subversion anywhere in the Americas. And let every other power know that this Hemisphere intends to remain the master of its own house.\\n\\nTo that world assembly of sovereign states, the United Nations, our last best hope in an age where the instruments of war have far outpaced the instruments of peace, we renew our pledge of support--to prevent it from becoming merely a forum for invective -- to strengthen its shield of the new and the weak -- and to enlarge the area in which its writ may run.\\n\\nFinally, to those nations who would make themselves our adversary, we offer not a pledge but a request: that both sides begin anew the quest for peace, before the dark powers of destruction unleashed by science engulf all humanity in planned or accidental self-destruction.\\n\\nWe dare not tempt them with weakness. For only when our arms are sufficient beyond doubt can we be certain beyond doubt that they will never be employed.\\n\\nBut neither can two great and powerful groups of nations take comfort from our present course -- both sides overburdened by the cost of modern weapons, both rightly alarmed by the steady spread of the deadly atom, yet both racing to alter that uncertain balance of terror that stays the hand of mankind\\'s final war.\\n\\nSo let us begin anew -- remembering on both sides that civility is not a sign of weakness, and sincerity is always subject to proof. Let us never negotiate out of fear. But let us never fear to negotiate.\\n\\nLet both sides explore what problems unite us instead of belaboring those problems which divide us.\\n\\nLet both sides, for the first time, formulate serious and precise proposals for the inspection and control of arms -- and bring the absolute power to destroy other nations under the absolute control of all nations.\\n\\nLet both sides seek to invoke the wonders of science instead of its terrors. Together let us explore the stars, conquer the deserts, eradicate disease, tap the ocean depths, and encourage the arts and commerce.\\n\\nLet both sides unite to heed in all corners of the earth the command of Isaiah -- to \"undo the heavy burdens ... and to let the oppressed go free.\"\\n\\nAnd if a beachhead of cooperation may push back the jungle of suspicion, let both sides join in creating a new endeavor, not a new balance of power, but a new world of law, where the strong are just and the weak secure and the peace preserved.\\n\\nAll this will not be finished in the first 100 days. Nor will it be finished in the first 1,000 days, nor in the life of this Administration, nor even perhaps in our lifetime on this planet. But let us begin.\\n\\nIn your hands, my fellow citizens, more than in mine, will rest the final success or failure of our course. Since this country was founded, each generation of Americans has been summoned to give testimony to its national loyalty. The graves of young Americans who answered the call to service surround the globe.\\n\\nNow the trumpet summons us again -- not as a call to bear arms, though arms we need; not as a call to battle, though embattled we are -- but a call to bear the burden of a long twilight struggle, year in and year out, \"rejoicing in hope, patient in tribulation\" -- a struggle against the common enemies of man: tyranny, poverty, disease, and war itself.\\n\\nCan we forge against these enemies a grand and global alliance, North and South, East and West, that can assure a more fruitful life for all mankind? Will you join in that historic effort?\\n\\nIn the long history of the world, only a few generations have been granted the role of defending freedom in its hour of maximum danger. I do not shrink from this responsibility -- I welcome it. I do not believe that any of us would exchange places with any other people or any other generation. The energy, the faith, the devotion which we bring to this endeavor will light our country and all who serve it -- and the glow from that fire can truly light the world.\\n\\nAnd so, my fellow Americans: ask not what your country can do for you -- ask what you can do for your country.\\n\\nMy fellow citizens of the world: ask not what America will do for you, but what together we can do for the freedom of man.\\n\\nFinally, whether you are citizens of America or citizens of the world, ask of us the same high standards of strength and sacrifice which we ask of you. With a good conscience our only sure reward, with history the final judge of our deeds, let us go forth to lead the land we love, asking His blessing and His help, but knowing that here on earth God\\'s work must truly be our own.\\n'"
      ]
     },
     "execution_count": 6,
     "metadata": {},
     "output_type": "execute_result"
    }
   ],
   "source": [
    "inaugural.raw('1961-Kennedy.txt')"
   ]
  },
  {
   "cell_type": "code",
   "execution_count": 7,
   "id": "8f4abc15",
   "metadata": {},
   "outputs": [
    {
     "data": {
      "text/plain": [
       "'Mr. Vice President, Mr. Speaker, Mr. Chief Justice, Senator Cook, Mrs. Eisenhower, and my fellow citizens of this great and good country we share together:\\n\\nWhen we met here four years ago, America was bleak in spirit, depressed by the prospect of seemingly endless war abroad and of destructive conflict at home.\\n\\nAs we meet here today, we stand on the threshold of a new era of peace in the world.\\n\\nThe central question before us is: How shall we use that peace? Let us resolve that this era we are about to enter will not be what other postwar periods have so often been: a time of retreat and isolation that leads to stagnation at home and invites new danger abroad.\\n\\nLet us resolve that this will be what it can become: a time of great responsibilities greatly borne, in which we renew the spirit and the promise of America as we enter our third century as a nation.\\n\\nThis past year saw far-reaching results from our new policies for peace. By continuing to revitalize our traditional friendships, and by our missions to Peking and to Moscow, we were able to establish the base for a new and more durable pattern of relationships among the nations of the world. Because of America\\'s bold initiatives, 1972 will be long remembered as the year of the greatest progress since the end of World War II toward a lasting peace in the world.\\n\\nThe peace we seek in the world is not the flimsy peace which is merely an interlude between wars, but a peace which can endure for generations to come.\\n\\nIt is important that we understand both the necessity and the limitations of America\\'s role in maintaining that peace.\\n\\nUnless we in America work to preserve the peace, there will be no peace.\\n\\nUnless we in America work to preserve freedom, there will be no freedom.\\n\\nBut let us clearly understand the new nature of America\\'s role, as a result of the new policies we have adopted over these past four years.\\n\\nWe shall respect our treaty commitments.\\n\\nWe shall support vigorously the principle that no country has the right to impose its will or rule on another by force.\\n\\nWe shall continue, in this era of negotiation, to work for the limitation of nuclear arms, and to reduce the danger of confrontation between the great powers.\\n\\nWe shall do our share in defending peace and freedom in the world. But we shall expect others to do their share.\\n\\nThe time has passed when America will make every other nation\\'s conflict our own, or make every other nation\\'s future our responsibility, or presume to tell the people of other nations how to manage their own affairs.\\n\\nJust as we respect the right of each nation to determine its own future, we also recognize the responsibility of each nation to secure its own future.\\n\\nJust as America\\'s role is indispensable in preserving the world\\'s peace, so is each nation\\'s role indispensable in preserving its own peace.\\n\\nTogether with the rest of the world, let us resolve to move forward from the beginnings we have made. Let us continue to bring down the walls of hostility which have divided the world for too long, and to build in their place bridges of understanding -- so that despite profound differences between systems of government, the people of the world can be friends.\\n\\nLet us build a structure of peace in the world in which the weak are as safe as the strong -- in which each respects the right of the other to live by a different system -- in which those who would influence others will do so by the strength of their ideas, and not by the force of their arms.\\n\\nLet us accept that high responsibility not as a burden, but gladly -- gladly because the chance to build such a peace is the noblest endeavor in which a nation can engage; gladly, also, because only if we act greatly in meeting our responsibilities abroad will we remain a great Nation, and only if we remain a great Nation will we act greatly in meeting our challenges at home.\\n\\nWe have the chance today to do more than ever before in our history to make life better in America -- to ensure better education, better health, better housing, better transportation, a cleaner environment -- to restore respect for law, to make our communities more livable -- and to insure the God-given right of every American to full and equal opportunity.\\n\\nBecause the range of our needs is so great -- because the reach of our opportunities is so great -- let us be bold in our determination to meet those needs in new ways.\\n\\nJust as building a structure of peace abroad has required turning away from old policies that failed, so building a new era of progress at home requires turning away from old policies that have failed.\\n\\nAbroad, the shift from old policies to new has not been a retreat from our responsibilities, but a better way to peace.\\n\\nAnd at home, the shift from old policies to new will not be a retreat from our responsibilities, but a better way to progress.\\n\\nAbroad and at home, the key to those new responsibilities lies in the placing and the division of responsibility. We have lived too long with the consequences of attempting to gather all power and responsibility in Washington.\\n\\nAbroad and at home, the time has come to turn away from the condescending policies of paternalism -- of \"Washington knows best.\"\\n\\nA person can be expected to act responsibly only if he has responsibility. This is human nature. So let us encourage individuals at home and nations abroad to do more for themselves, to decide more for themselves. Let us locate responsibility in more places. Let us measure what we will do for others by what they will do for themselves.\\n\\nThat is why today I offer no promise of a purely governmental solution for every problem. We have lived too long with that false promise. In trusting too much in government, we have asked of it more than it can deliver. This leads only to inflated expectations, to reduced individual effort, and to a disappointment and frustration that erode confidence both in what government can do and in what people can do.\\n\\nGovernment must learn to take less from people so that people an do more for themselves.\\n\\nLet us remember that America was built not by government, but by people -- not by welfare, but by work -- not by shirking responsibility, but by seeking responsibility.\\n\\nIn our own lives, let each of us ask -- not just what will government do for me, but what can I do for myself?\\n\\nIn the challenges we face together, let each of us ask -- not just how can government help, but how can I help?\\n\\nYour National Government has a great and vital role to play. And I pledge to you that where this Government should act, we will act boldly and we will lead boldly. But just as important is the role that each and every one of us must play, as an individual and as a member of his own community.\\n\\nFrom this day forward, let each of us make a solemn commitment in his own heart: to bear his responsibility, to do his part, to live his ideals -- so that together, we can see the dawn of a new age of progress for America, and together, as we celebrate our 200th anniversary as a nation, we can do so proud in the fulfillment of our promise to ourselves and to the world.\\n\\nAs America\\'s longest and most difficult war comes to an end, let us again learn to debate our differences with civility and decency. And let each of us reach out for that one precious quality government cannot provide -- a new level of respect for the rights and feelings of one another, a new level of respect for the individual human dignity which is the cherished birthright of every American.\\n\\nAbove all else, the time has come for us to renew our faith in ourselves and in America.\\n\\nIn recent years, that faith has been challenged.\\n\\nOur children have been taught to be ashamed of their country, ashamed of their parents, ashamed of America\\'s record at home and of its role in the world.\\n\\nAt every turn, we have been beset by those who find everything wrong with America and little that is right. But I am confident that this will not be the judgment of history on these remarkable times in which we are privileged to live.\\n\\nAmerica\\'s record in this century has been unparalleled in the world\\'s history for its responsibility, for its generosity, for its creativity and for its progress.\\n\\nLet us be proud that our system has produced and provided more freedom and more abundance, more widely shared, than any other system in the history of the world.\\n\\nLet us be proud that in each of the four wars in which we have been engaged in this century, including the one we are now bringing to an end, we have fought not for our selfish advantage, but to help others resist aggression.\\n\\nLet us be proud that by our bold, new initiatives, and by our steadfastness for peace with honor, we have made a break-through toward creating in the world what the world has not known before -- a structure of peace that can last, not merely for our time, but for generations to come.\\n\\nWe are embarking here today on an era that presents challenges great as those any nation, or any generation, has ever faced.\\n\\nWe shall answer to God, to history, and to our conscience for the way in which we use these years.\\n\\nAs I stand in this place, so hallowed by history, I think of others who have stood here before me. I think of the dreams they had for America, and I think of how each recognized that he needed help far beyond himself in order to make those dreams come true.\\n\\nToday, I ask your prayers that in the years ahead I may have God\\'s help in making decisions that are right for America, and I pray for your help so that together we may be worthy of our challenge.\\n\\nLet us pledge together to make these next four years the best four years in America\\'s history, so that on its 200th birthday America will be as young and as vital as when it began, and as bright a beacon of hope for all the world.\\n\\nLet us go forward from here confident in hope, strong in our faith in one another, sustained by our faith in God who created us, and striving always to serve His purpose.\\n'"
      ]
     },
     "execution_count": 7,
     "metadata": {},
     "output_type": "execute_result"
    }
   ],
   "source": [
    "inaugural.raw('1973-Nixon.txt')"
   ]
  },
  {
   "cell_type": "markdown",
   "id": "d3c723e1",
   "metadata": {},
   "source": [
    "### 2.1 Find the number of characters, words, and sentences for the mentioned documents.\n",
    "\n",
    "(Hint: use .words(), .raw(), .sent() for extracting counts)"
   ]
  },
  {
   "cell_type": "code",
   "execution_count": 9,
   "id": "831eda2d",
   "metadata": {},
   "outputs": [
    {
     "name": "stderr",
     "output_type": "stream",
     "text": [
      "[nltk_data] Downloading package punkt to\n",
      "[nltk_data]     C:\\Users\\ADIL\\AppData\\Roaming\\nltk_data...\n",
      "[nltk_data]   Package punkt is already up-to-date!\n"
     ]
    },
    {
     "data": {
      "text/plain": [
       "True"
      ]
     },
     "execution_count": 9,
     "metadata": {},
     "output_type": "execute_result"
    }
   ],
   "source": [
    "nltk.download('punkt')"
   ]
  },
  {
   "cell_type": "code",
   "execution_count": 10,
   "id": "fbb69bb1",
   "metadata": {},
   "outputs": [
    {
     "data": {
      "text/plain": [
       "['On', 'each', 'national', 'day', 'of', 'inauguration', ...]"
      ]
     },
     "execution_count": 10,
     "metadata": {},
     "output_type": "execute_result"
    }
   ],
   "source": [
    "inaugural.words('1941-Roosevelt.txt')"
   ]
  },
  {
   "cell_type": "code",
   "execution_count": 11,
   "id": "34eff32c",
   "metadata": {},
   "outputs": [
    {
     "data": {
      "text/plain": [
       "[['On', 'each', 'national', 'day', 'of', 'inauguration', 'since', '1789', ',', 'the', 'people', 'have', 'renewed', 'their', 'sense', 'of', 'dedication', 'to', 'the', 'United', 'States', '.'], ['In', 'Washington', \"'\", 's', 'day', 'the', 'task', 'of', 'the', 'people', 'was', 'to', 'create', 'and', 'weld', 'together', 'a', 'nation', '.'], ...]"
      ]
     },
     "execution_count": 11,
     "metadata": {},
     "output_type": "execute_result"
    }
   ],
   "source": [
    "inaugural.sents('1941-Roosevelt.txt')"
   ]
  },
  {
   "cell_type": "code",
   "execution_count": 12,
   "id": "d3318ce2",
   "metadata": {},
   "outputs": [
    {
     "data": {
      "text/plain": [
       "['Vice', 'President', 'Johnson', ',', 'Mr', '.', ...]"
      ]
     },
     "execution_count": 12,
     "metadata": {},
     "output_type": "execute_result"
    }
   ],
   "source": [
    "inaugural.words('1961-Kennedy.txt')"
   ]
  },
  {
   "cell_type": "code",
   "execution_count": 13,
   "id": "8e2f8ac9",
   "metadata": {},
   "outputs": [
    {
     "data": {
      "text/plain": [
       "[['Vice', 'President', 'Johnson', ',', 'Mr', '.', 'Speaker', ',', 'Mr', '.', 'Chief', 'Justice', ',', 'President', 'Eisenhower', ',', 'Vice', 'President', 'Nixon', ',', 'President', 'Truman', ',', 'reverend', 'clergy', ',', 'fellow', 'citizens', ',', 'we', 'observe', 'today', 'not', 'a', 'victory', 'of', 'party', ',', 'but', 'a', 'celebration', 'of', 'freedom', '--', 'symbolizing', 'an', 'end', ',', 'as', 'well', 'as', 'a', 'beginning', '--', 'signifying', 'renewal', ',', 'as', 'well', 'as', 'change', '.'], ['For', 'I', 'have', 'sworn', 'I', 'before', 'you', 'and', 'Almighty', 'God', 'the', 'same', 'solemn', 'oath', 'our', 'forebears', 'l', 'prescribed', 'nearly', 'a', 'century', 'and', 'three', 'quarters', 'ago', '.'], ...]"
      ]
     },
     "execution_count": 13,
     "metadata": {},
     "output_type": "execute_result"
    }
   ],
   "source": [
    "inaugural.sents('1961-Kennedy.txt')"
   ]
  },
  {
   "cell_type": "code",
   "execution_count": 14,
   "id": "e7e7d458",
   "metadata": {},
   "outputs": [
    {
     "data": {
      "text/plain": [
       "['Mr', '.', 'Vice', 'President', ',', 'Mr', '.', ...]"
      ]
     },
     "execution_count": 14,
     "metadata": {},
     "output_type": "execute_result"
    }
   ],
   "source": [
    "inaugural.words('1973-Nixon.txt')"
   ]
  },
  {
   "cell_type": "code",
   "execution_count": 15,
   "id": "a02f0f98",
   "metadata": {},
   "outputs": [
    {
     "data": {
      "text/plain": [
       "[['Mr', '.', 'Vice', 'President', ',', 'Mr', '.', 'Speaker', ',', 'Mr', '.', 'Chief', 'Justice', ',', 'Senator', 'Cook', ',', 'Mrs', '.', 'Eisenhower', ',', 'and', 'my', 'fellow', 'citizens', 'of', 'this', 'great', 'and', 'good', 'country', 'we', 'share', 'together', ':'], ['When', 'we', 'met', 'here', 'four', 'years', 'ago', ',', 'America', 'was', 'bleak', 'in', 'spirit', ',', 'depressed', 'by', 'the', 'prospect', 'of', 'seemingly', 'endless', 'war', 'abroad', 'and', 'of', 'destructive', 'conflict', 'at', 'home', '.'], ...]"
      ]
     },
     "execution_count": 15,
     "metadata": {},
     "output_type": "execute_result"
    }
   ],
   "source": [
    "inaugural.sents('1973-Nixon.txt')"
   ]
  },
  {
   "cell_type": "code",
   "execution_count": 16,
   "id": "7f99889c",
   "metadata": {},
   "outputs": [
    {
     "name": "stdout",
     "output_type": "stream",
     "text": [
      " The numbers of characters in 1941-Roosevelt speech is: 7571\n",
      " The numbers of words in 1941-Roosevelt speech is: 1536\n",
      " The numbers of sentences in 1941-Roosevelt speech is: 68\n"
     ]
    }
   ],
   "source": [
    "num_chars = len(inaugural.raw(\"1941-Roosevelt.txt\"))\n",
    "num_words = len(inaugural.words(\"1941-Roosevelt.txt\"))\n",
    "num_sents = len(inaugural.sents(\"1941-Roosevelt.txt\"))\n",
    "\n",
    "print(\" The numbers of characters in 1941-Roosevelt speech is:\",num_chars)\n",
    "print(\" The numbers of words in 1941-Roosevelt speech is:\",num_words)\n",
    "print(\" The numbers of sentences in 1941-Roosevelt speech is:\",num_sents)"
   ]
  },
  {
   "cell_type": "code",
   "execution_count": 17,
   "id": "50c5c1ef",
   "metadata": {},
   "outputs": [
    {
     "name": "stdout",
     "output_type": "stream",
     "text": [
      " The numbers of characters in 1961-Kennedy speech is: 7618\n",
      " The numbers of words in 1961-Kennedy speech is: 1546\n",
      " The numbers of sentences in 1961-Kennedy speech is: 52\n"
     ]
    }
   ],
   "source": [
    "num_chars1 = len(inaugural.raw(\"1961-Kennedy.txt\"))\n",
    "num_words1 = len(inaugural.words(\"1961-Kennedy.txt\"))\n",
    "num_sents1 = len(inaugural.sents(\"1961-Kennedy.txt\"))\n",
    "\n",
    "print(\" The numbers of characters in 1961-Kennedy speech is:\",num_chars1)\n",
    "print(\" The numbers of words in 1961-Kennedy speech is:\",num_words1)\n",
    "print(\" The numbers of sentences in 1961-Kennedy speech is:\",num_sents1)"
   ]
  },
  {
   "cell_type": "code",
   "execution_count": 18,
   "id": "e333e026",
   "metadata": {},
   "outputs": [
    {
     "name": "stdout",
     "output_type": "stream",
     "text": [
      " The numbers of characters in 1973-Nixon speech is: 9991\n",
      " The numbers of words in 1973-Nixon speech is: 2028\n",
      " The numbers of sentences in 1973-Nixon speech is: 69\n"
     ]
    }
   ],
   "source": [
    "num_chars2 = len(inaugural.raw('1973-Nixon.txt'))\n",
    "num_words2 = len(inaugural.words('1973-Nixon.txt'))\n",
    "num_sents2 = len(inaugural.sents('1973-Nixon.txt'))\n",
    "\n",
    "print(\" The numbers of characters in 1973-Nixon speech is:\",num_chars2)\n",
    "print(\" The numbers of words in 1973-Nixon speech is:\",num_words2)\n",
    "print(\" The numbers of sentences in 1973-Nixon speech is:\",num_sents2)"
   ]
  },
  {
   "cell_type": "code",
   "execution_count": 19,
   "id": "654dba1f",
   "metadata": {},
   "outputs": [
    {
     "data": {
      "text/html": [
       "<div>\n",
       "<style scoped>\n",
       "    .dataframe tbody tr th:only-of-type {\n",
       "        vertical-align: middle;\n",
       "    }\n",
       "\n",
       "    .dataframe tbody tr th {\n",
       "        vertical-align: top;\n",
       "    }\n",
       "\n",
       "    .dataframe thead th {\n",
       "        text-align: right;\n",
       "    }\n",
       "</style>\n",
       "<table border=\"1\" class=\"dataframe\">\n",
       "  <thead>\n",
       "    <tr style=\"text-align: right;\">\n",
       "      <th></th>\n",
       "      <th>Roosevelt_speech</th>\n",
       "    </tr>\n",
       "  </thead>\n",
       "  <tbody>\n",
       "    <tr>\n",
       "      <th>characters</th>\n",
       "      <td>7571</td>\n",
       "    </tr>\n",
       "    <tr>\n",
       "      <th>words</th>\n",
       "      <td>1536</td>\n",
       "    </tr>\n",
       "    <tr>\n",
       "      <th>sentences</th>\n",
       "      <td>68</td>\n",
       "    </tr>\n",
       "  </tbody>\n",
       "</table>\n",
       "</div>"
      ],
      "text/plain": [
       "            Roosevelt_speech\n",
       "characters              7571\n",
       "words                   1536\n",
       "sentences                 68"
      ]
     },
     "execution_count": 19,
     "metadata": {},
     "output_type": "execute_result"
    }
   ],
   "source": [
    "speech = pd.DataFrame({\"Roosevelt_speech\" :[num_chars,num_words,num_sents]}, index = ['characters','words','sentences'])\n",
    "speech"
   ]
  },
  {
   "cell_type": "code",
   "execution_count": 20,
   "id": "01993093",
   "metadata": {},
   "outputs": [
    {
     "data": {
      "text/html": [
       "<div>\n",
       "<style scoped>\n",
       "    .dataframe tbody tr th:only-of-type {\n",
       "        vertical-align: middle;\n",
       "    }\n",
       "\n",
       "    .dataframe tbody tr th {\n",
       "        vertical-align: top;\n",
       "    }\n",
       "\n",
       "    .dataframe thead th {\n",
       "        text-align: right;\n",
       "    }\n",
       "</style>\n",
       "<table border=\"1\" class=\"dataframe\">\n",
       "  <thead>\n",
       "    <tr style=\"text-align: right;\">\n",
       "      <th></th>\n",
       "      <th>Kennedy_speech</th>\n",
       "    </tr>\n",
       "  </thead>\n",
       "  <tbody>\n",
       "    <tr>\n",
       "      <th>characters</th>\n",
       "      <td>7618</td>\n",
       "    </tr>\n",
       "    <tr>\n",
       "      <th>words</th>\n",
       "      <td>1546</td>\n",
       "    </tr>\n",
       "    <tr>\n",
       "      <th>sentences</th>\n",
       "      <td>52</td>\n",
       "    </tr>\n",
       "  </tbody>\n",
       "</table>\n",
       "</div>"
      ],
      "text/plain": [
       "            Kennedy_speech\n",
       "characters            7618\n",
       "words                 1546\n",
       "sentences               52"
      ]
     },
     "execution_count": 20,
     "metadata": {},
     "output_type": "execute_result"
    }
   ],
   "source": [
    "speech = pd.DataFrame({\"Kennedy_speech\" :[num_chars1,num_words1,num_sents1]}, index = ['characters','words','sentences'])\n",
    "speech"
   ]
  },
  {
   "cell_type": "code",
   "execution_count": 21,
   "id": "6dd0b442",
   "metadata": {},
   "outputs": [
    {
     "data": {
      "text/html": [
       "<div>\n",
       "<style scoped>\n",
       "    .dataframe tbody tr th:only-of-type {\n",
       "        vertical-align: middle;\n",
       "    }\n",
       "\n",
       "    .dataframe tbody tr th {\n",
       "        vertical-align: top;\n",
       "    }\n",
       "\n",
       "    .dataframe thead th {\n",
       "        text-align: right;\n",
       "    }\n",
       "</style>\n",
       "<table border=\"1\" class=\"dataframe\">\n",
       "  <thead>\n",
       "    <tr style=\"text-align: right;\">\n",
       "      <th></th>\n",
       "      <th>Nixon_speech</th>\n",
       "    </tr>\n",
       "  </thead>\n",
       "  <tbody>\n",
       "    <tr>\n",
       "      <th>characters</th>\n",
       "      <td>9991</td>\n",
       "    </tr>\n",
       "    <tr>\n",
       "      <th>words</th>\n",
       "      <td>2028</td>\n",
       "    </tr>\n",
       "    <tr>\n",
       "      <th>sentences</th>\n",
       "      <td>69</td>\n",
       "    </tr>\n",
       "  </tbody>\n",
       "</table>\n",
       "</div>"
      ],
      "text/plain": [
       "            Nixon_speech\n",
       "characters          9991\n",
       "words               2028\n",
       "sentences             69"
      ]
     },
     "execution_count": 21,
     "metadata": {},
     "output_type": "execute_result"
    }
   ],
   "source": [
    "speech = pd.DataFrame({\"Nixon_speech\" :[num_chars2,num_words2,num_sents2]}, index = ['characters','words','sentences'])\n",
    "speech"
   ]
  },
  {
   "cell_type": "code",
   "execution_count": 22,
   "id": "219f5c89",
   "metadata": {},
   "outputs": [
    {
     "data": {
      "text/plain": [
       "'on each national day of inauguration since 1789, the people have renewed their sense of dedication to the united states.\\n\\nin washington\\'s day the task of the people was to create and weld together a nation.\\n\\nin lincoln\\'s day the task of the people was to preserve that nation from disruption from within.\\n\\nin this day the task of the people is to save that nation and its institutions from disruption from without.\\n\\nto us there has come a time, in the midst of swift happenings, to pause for a moment and take stock -- to recall what our place in history has been, and to rediscover what we are and what we may be. if we do not, we risk the real peril of inaction.\\n\\nlives of nations are determined not by the count of years, but by the lifetime of the human spirit. the life of a man is three-score years and ten: a little more, a little less. the life of a nation is the fullness of the measure of its will to live.\\n\\nthere are men who doubt this. there are men who believe that democracy, as a form of government and a frame of life, is limited or measured by a kind of mystical and artificial fate that, for some unexplained reason, tyranny and slavery have become the surging wave of the future -- and that freedom is an ebbing tide.\\n\\nbut we americans know that this is not true.\\n\\neight years ago, when the life of this republic seemed frozen by a fatalistic terror, we proved that this is not true. we were in the midst of shock -- but we acted. we acted quickly, boldly, decisively.\\n\\nthese later years have been living years -- fruitful years for the people of this democracy. for they have brought to us greater security and, i hope, a better understanding that life\\'s ideals are to be measured in other than material things.\\n\\nmost vital to our present and our future is this experience of a democracy which successfully survived crisis at home; put away many evil things; built new structures on enduring lines; and, through it all, maintained the fact of its democracy.\\n\\nfor action has been taken within the three-way framework of the constitution of the united states. the coordinate branches of the government continue freely to function. the bill of rights remains inviolate. the freedom of elections is wholly maintained. prophets of the downfall of american democracy have seen their dire predictions come to naught.\\n\\ndemocracy is not dying.\\n\\nwe know it because we have seen it revive--and grow.\\n\\nwe know it cannot die -- because it is built on the unhampered initiative of individual men and women joined together in a common enterprise -- an enterprise undertaken and carried through by the free expression of a free majority.\\n\\nwe know it because democracy alone, of all forms of government, enlists the full force of men\\'s enlightened will.\\n\\nwe know it because democracy alone has constructed an unlimited civilization capable of infinite progress in the improvement of human life.\\n\\nwe know it because, if we look below the surface, we sense it still spreading on every continent -- for it is the most humane, the most advanced, and in the end the most unconquerable of all forms of human society.\\n\\na nation, like a person, has a body--a body that must be fed and clothed and housed, invigorated and rested, in a manner that measures up to the objectives of our time.\\n\\na nation, like a person, has a mind -- a mind that must be kept informed and alert, that must know itself, that understands the hopes and the needs of its neighbors -- all the other nations that live within the narrowing circle of the world.\\n\\nand a nation, like a person, has something deeper, something more permanent, something larger than the sum of all its parts. it is that something which matters most to its future -- which calls forth the most sacred guarding of its present.\\n\\nit is a thing for which we find it difficult -- even impossible -- to hit upon a single, simple word.\\n\\nand yet we all understand what it is -- the spirit -- the faith of america. it is the product of centuries. it was born in the multitudes of those who came from many lands -- some of high degree, but mostly plain people, who sought here, early and late, to find freedom more freely.\\n\\nthe democratic aspiration is no mere recent phase in human history. it is human history. it permeated the ancient life of early peoples. it blazed anew in the middle ages. it was written in magna charta.\\n\\nin the americas its impact has been irresistible. america has been the new world in all tongues, to all peoples, not because this continent was a new-found land, but because all those who came here believed they could create upon this continent a new life -- a life that should be new in freedom.\\n\\nits vitality was written into our own mayflower compact, into the declaration of independence, into the constitution of the united states, into the gettysburg address.\\n\\nthose who first came here to carry out the longings of their spirit, and the millions who followed, and the stock that sprang from them -- all have moved forward constantly and consistently toward an ideal which in itself has gained stature and clarity with each generation.\\n\\nthe hopes of the republic cannot forever tolerate either undeserved poverty or self-serving wealth.\\n\\nwe know that we still have far to go; that we must more greatly build the security and the opportunity and the knowledge of every citizen, in the measure justified by the resources and the capacity of the land.\\n\\nbut it is not enough to achieve these purposes alone. it is not enough to clothe and feed the body of this nation, and instruct and inform its mind. for there is also the spirit. and of the three, the greatest is the spirit.\\n\\nwithout the body and the mind, as all men know, the nation could not live.\\n\\nbut if the spirit of america were killed, even though the nation\\'s body and mind, constricted in an alien world, lived on, the america we know would have perished.\\n\\nthat spirit -- that faith -- speaks to us in our daily lives in ways often unnoticed, because they seem so obvious. it speaks to us here in the capital of the nation. it speaks to us through the processes of governing in the sovereignties of 48 states. it speaks to us in our counties, in our cities, in our towns, and in our villages. it speaks to us from the other nations of the hemisphere, and from those across the seas -- the enslaved, as well as the free. sometimes we fail to hear or heed these voices of freedom because to us the privilege of our freedom is such an old, old story.\\n\\nthe destiny of america was proclaimed in words of prophecy spoken by our first president in his first inaugural in 1789 -- words almost directed, it would seem, to this year of 1941: \"the preservation of the sacred fire of liberty and the destiny of the republican model of government are justly considered deeply, finally, staked on the experiment intrusted to the hands of the american people.\"\\n\\nif we lose that sacred fire--if we let it be smothered with doubt and fear -- then we shall reject the destiny which washington strove so valiantly and so triumphantly to establish. the preservation of the spirit and faith of the nation does, and will, furnish the highest justification for every sacrifice that we may make in the cause of national defense.\\n\\nin the face of great perils never before encountered, our strong purpose is to protect and to perpetuate the integrity of democracy.\\n\\nfor this we muster the spirit of america, and the faith of america.\\n\\nwe do not retreat. we are not content to stand still. as americans, we go forward, in the service of our country, by the will of god.\\n'"
      ]
     },
     "execution_count": 22,
     "metadata": {},
     "output_type": "execute_result"
    }
   ],
   "source": [
    "## Converting to Lower Case\n",
    "R = inaugural.raw(\"1941-Roosevelt.txt\").lower()\n",
    "R"
   ]
  },
  {
   "cell_type": "code",
   "execution_count": 23,
   "id": "7bd86948",
   "metadata": {},
   "outputs": [],
   "source": [
    "## Cleaning the special characters (/@$: etc)\n",
    "## from Regular Expressions package\n",
    "## re.sub() function for string substitution using regular expressions\n",
    "import re\n",
    "R = re.sub(\"[^a-zA-Z]\",\" \",str(R))"
   ]
  },
  {
   "cell_type": "code",
   "execution_count": 25,
   "id": "658711a0",
   "metadata": {},
   "outputs": [
    {
     "data": {
      "text/plain": [
       "'on each national day of inauguration since       the people have renewed their sense of dedication to the united states   in washington s day the task of the people was to create and weld together a nation   in lincoln s day the task of the people was to preserve that nation from disruption from within   in this day the task of the people is to save that nation and its institutions from disruption from without   to us there has come a time  in the midst of swift happenings  to pause for a moment and take stock    to recall what our place in history has been  and to rediscover what we are and what we may be  if we do not  we risk the real peril of inaction   lives of nations are determined not by the count of years  but by the lifetime of the human spirit  the life of a man is three score years and ten  a little more  a little less  the life of a nation is the fullness of the measure of its will to live   there are men who doubt this  there are men who believe that democracy  as a form of government and a frame of life  is limited or measured by a kind of mystical and artificial fate that  for some unexplained reason  tyranny and slavery have become the surging wave of the future    and that freedom is an ebbing tide   but we americans know that this is not true   eight years ago  when the life of this republic seemed frozen by a fatalistic terror  we proved that this is not true  we were in the midst of shock    but we acted  we acted quickly  boldly  decisively   these later years have been living years    fruitful years for the people of this democracy  for they have brought to us greater security and  i hope  a better understanding that life s ideals are to be measured in other than material things   most vital to our present and our future is this experience of a democracy which successfully survived crisis at home  put away many evil things  built new structures on enduring lines  and  through it all  maintained the fact of its democracy   for action has been taken within the three way framework of the constitution of the united states  the coordinate branches of the government continue freely to function  the bill of rights remains inviolate  the freedom of elections is wholly maintained  prophets of the downfall of american democracy have seen their dire predictions come to naught   democracy is not dying   we know it because we have seen it revive  and grow   we know it cannot die    because it is built on the unhampered initiative of individual men and women joined together in a common enterprise    an enterprise undertaken and carried through by the free expression of a free majority   we know it because democracy alone  of all forms of government  enlists the full force of men s enlightened will   we know it because democracy alone has constructed an unlimited civilization capable of infinite progress in the improvement of human life   we know it because  if we look below the surface  we sense it still spreading on every continent    for it is the most humane  the most advanced  and in the end the most unconquerable of all forms of human society   a nation  like a person  has a body  a body that must be fed and clothed and housed  invigorated and rested  in a manner that measures up to the objectives of our time   a nation  like a person  has a mind    a mind that must be kept informed and alert  that must know itself  that understands the hopes and the needs of its neighbors    all the other nations that live within the narrowing circle of the world   and a nation  like a person  has something deeper  something more permanent  something larger than the sum of all its parts  it is that something which matters most to its future    which calls forth the most sacred guarding of its present   it is a thing for which we find it difficult    even impossible    to hit upon a single  simple word   and yet we all understand what it is    the spirit    the faith of america  it is the product of centuries  it was born in the multitudes of those who came from many lands    some of high degree  but mostly plain people  who sought here  early and late  to find freedom more freely   the democratic aspiration is no mere recent phase in human history  it is human history  it permeated the ancient life of early peoples  it blazed anew in the middle ages  it was written in magna charta   in the americas its impact has been irresistible  america has been the new world in all tongues  to all peoples  not because this continent was a new found land  but because all those who came here believed they could create upon this continent a new life    a life that should be new in freedom   its vitality was written into our own mayflower compact  into the declaration of independence  into the constitution of the united states  into the gettysburg address   those who first came here to carry out the longings of their spirit  and the millions who followed  and the stock that sprang from them    all have moved forward constantly and consistently toward an ideal which in itself has gained stature and clarity with each generation   the hopes of the republic cannot forever tolerate either undeserved poverty or self serving wealth   we know that we still have far to go  that we must more greatly build the security and the opportunity and the knowledge of every citizen  in the measure justified by the resources and the capacity of the land   but it is not enough to achieve these purposes alone  it is not enough to clothe and feed the body of this nation  and instruct and inform its mind  for there is also the spirit  and of the three  the greatest is the spirit   without the body and the mind  as all men know  the nation could not live   but if the spirit of america were killed  even though the nation s body and mind  constricted in an alien world  lived on  the america we know would have perished   that spirit    that faith    speaks to us in our daily lives in ways often unnoticed  because they seem so obvious  it speaks to us here in the capital of the nation  it speaks to us through the processes of governing in the sovereignties of    states  it speaks to us in our counties  in our cities  in our towns  and in our villages  it speaks to us from the other nations of the hemisphere  and from those across the seas    the enslaved  as well as the free  sometimes we fail to hear or heed these voices of freedom because to us the privilege of our freedom is such an old  old story   the destiny of america was proclaimed in words of prophecy spoken by our first president in his first inaugural in         words almost directed  it would seem  to this year of        the preservation of the sacred fire of liberty and the destiny of the republican model of government are justly considered deeply  finally  staked on the experiment intrusted to the hands of the american people    if we lose that sacred fire  if we let it be smothered with doubt and fear    then we shall reject the destiny which washington strove so valiantly and so triumphantly to establish  the preservation of the spirit and faith of the nation does  and will  furnish the highest justification for every sacrifice that we may make in the cause of national defense   in the face of great perils never before encountered  our strong purpose is to protect and to perpetuate the integrity of democracy   for this we muster the spirit of america  and the faith of america   we do not retreat  we are not content to stand still  as americans  we go forward  in the service of our country  by the will of god  '"
      ]
     },
     "execution_count": 25,
     "metadata": {},
     "output_type": "execute_result"
    }
   ],
   "source": [
    "R"
   ]
  },
  {
   "cell_type": "code",
   "execution_count": 26,
   "id": "e82503f5",
   "metadata": {},
   "outputs": [
    {
     "data": {
      "text/plain": [
       "'vice president johnson, mr. speaker, mr. chief justice, president eisenhower, vice president nixon, president truman, reverend clergy, fellow citizens, we observe today not a victory of party, but a celebration of freedom -- symbolizing an end, as well as a beginning -- signifying renewal, as well as change. for i have sworn i before you and almighty god the same solemn oath our forebears l prescribed nearly a century and three quarters ago.\\n\\nthe world is very different now. for man holds in his mortal hands the power to abolish all forms of human poverty and all forms of human life. and yet the same revolutionary beliefs for which our forebears fought are still at issue around the globe -- the belief that the rights of man come not from the generosity of the state, but from the hand of god.\\n\\nwe dare not forget today that we are the heirs of that first revolution. let the word go forth from this time and place, to friend and foe alike, that the torch has been passed to a new generation of americans -- born in this century, tempered by war, disciplined by a hard and bitter peace, proud of our ancient heritage -- and unwilling to witness or permit the slow undoing of those human rights to which this nation has always been committed, and to which we are committed today at home and around the world.\\n\\nlet every nation know, whether it wishes us well or ill, that we shall pay any price, bear any burden, meet any hardship, support any friend, oppose any foe, in order to assure the survival and the success of liberty.\\n\\nthis much we pledge -- and more.\\n\\nto those old allies whose cultural and spiritual origins we share, we pledge the loyalty of faithful friends. united, there is little we cannot do in a host of cooperative ventures. divided, there is little we can do -- for we dare not meet a powerful challenge at odds and split asunder.\\n\\nto those new states whom we welcome to the ranks of the free, we pledge our word that one form of colonial control shall not have passed away merely to be replaced by a far more iron tyranny. we shall not always expect to find them supporting our view. but we shall always hope to find them strongly supporting their own freedom -- and to remember that, in the past, those who foolishly sought power by riding the back of the tiger ended up inside.\\n\\nto those peoples in the huts and villages across the globe struggling to break the bonds of mass misery, we pledge our best efforts to help them help themselves, for whatever period is required -- not because the communists may be doing it, not because we seek their votes, but because it is right. if a free society cannot help the many who are poor, it cannot save the few who are rich.\\n\\nto our sister republics south of our border, we offer a special pledge -- to convert our good words into good deeds -- in a new alliance for progress -- to assist free men and free governments in casting off the chains of poverty. but this peaceful revolution of hope cannot become the prey of hostile powers. let all our neighbors know that we shall join with them to oppose aggression or subversion anywhere in the americas. and let every other power know that this hemisphere intends to remain the master of its own house.\\n\\nto that world assembly of sovereign states, the united nations, our last best hope in an age where the instruments of war have far outpaced the instruments of peace, we renew our pledge of support--to prevent it from becoming merely a forum for invective -- to strengthen its shield of the new and the weak -- and to enlarge the area in which its writ may run.\\n\\nfinally, to those nations who would make themselves our adversary, we offer not a pledge but a request: that both sides begin anew the quest for peace, before the dark powers of destruction unleashed by science engulf all humanity in planned or accidental self-destruction.\\n\\nwe dare not tempt them with weakness. for only when our arms are sufficient beyond doubt can we be certain beyond doubt that they will never be employed.\\n\\nbut neither can two great and powerful groups of nations take comfort from our present course -- both sides overburdened by the cost of modern weapons, both rightly alarmed by the steady spread of the deadly atom, yet both racing to alter that uncertain balance of terror that stays the hand of mankind\\'s final war.\\n\\nso let us begin anew -- remembering on both sides that civility is not a sign of weakness, and sincerity is always subject to proof. let us never negotiate out of fear. but let us never fear to negotiate.\\n\\nlet both sides explore what problems unite us instead of belaboring those problems which divide us.\\n\\nlet both sides, for the first time, formulate serious and precise proposals for the inspection and control of arms -- and bring the absolute power to destroy other nations under the absolute control of all nations.\\n\\nlet both sides seek to invoke the wonders of science instead of its terrors. together let us explore the stars, conquer the deserts, eradicate disease, tap the ocean depths, and encourage the arts and commerce.\\n\\nlet both sides unite to heed in all corners of the earth the command of isaiah -- to \"undo the heavy burdens ... and to let the oppressed go free.\"\\n\\nand if a beachhead of cooperation may push back the jungle of suspicion, let both sides join in creating a new endeavor, not a new balance of power, but a new world of law, where the strong are just and the weak secure and the peace preserved.\\n\\nall this will not be finished in the first 100 days. nor will it be finished in the first 1,000 days, nor in the life of this administration, nor even perhaps in our lifetime on this planet. but let us begin.\\n\\nin your hands, my fellow citizens, more than in mine, will rest the final success or failure of our course. since this country was founded, each generation of americans has been summoned to give testimony to its national loyalty. the graves of young americans who answered the call to service surround the globe.\\n\\nnow the trumpet summons us again -- not as a call to bear arms, though arms we need; not as a call to battle, though embattled we are -- but a call to bear the burden of a long twilight struggle, year in and year out, \"rejoicing in hope, patient in tribulation\" -- a struggle against the common enemies of man: tyranny, poverty, disease, and war itself.\\n\\ncan we forge against these enemies a grand and global alliance, north and south, east and west, that can assure a more fruitful life for all mankind? will you join in that historic effort?\\n\\nin the long history of the world, only a few generations have been granted the role of defending freedom in its hour of maximum danger. i do not shrink from this responsibility -- i welcome it. i do not believe that any of us would exchange places with any other people or any other generation. the energy, the faith, the devotion which we bring to this endeavor will light our country and all who serve it -- and the glow from that fire can truly light the world.\\n\\nand so, my fellow americans: ask not what your country can do for you -- ask what you can do for your country.\\n\\nmy fellow citizens of the world: ask not what america will do for you, but what together we can do for the freedom of man.\\n\\nfinally, whether you are citizens of america or citizens of the world, ask of us the same high standards of strength and sacrifice which we ask of you. with a good conscience our only sure reward, with history the final judge of our deeds, let us go forth to lead the land we love, asking his blessing and his help, but knowing that here on earth god\\'s work must truly be our own.\\n'"
      ]
     },
     "execution_count": 26,
     "metadata": {},
     "output_type": "execute_result"
    }
   ],
   "source": [
    "## Converting to Lower Case\n",
    "K = inaugural.raw(\"1961-Kennedy.txt\").lower()\n",
    "K"
   ]
  },
  {
   "cell_type": "code",
   "execution_count": 27,
   "id": "9b1539aa",
   "metadata": {},
   "outputs": [
    {
     "data": {
      "text/plain": [
       "'vice president johnson  mr  speaker  mr  chief justice  president eisenhower  vice president nixon  president truman  reverend clergy  fellow citizens  we observe today not a victory of party  but a celebration of freedom    symbolizing an end  as well as a beginning    signifying renewal  as well as change  for i have sworn i before you and almighty god the same solemn oath our forebears l prescribed nearly a century and three quarters ago   the world is very different now  for man holds in his mortal hands the power to abolish all forms of human poverty and all forms of human life  and yet the same revolutionary beliefs for which our forebears fought are still at issue around the globe    the belief that the rights of man come not from the generosity of the state  but from the hand of god   we dare not forget today that we are the heirs of that first revolution  let the word go forth from this time and place  to friend and foe alike  that the torch has been passed to a new generation of americans    born in this century  tempered by war  disciplined by a hard and bitter peace  proud of our ancient heritage    and unwilling to witness or permit the slow undoing of those human rights to which this nation has always been committed  and to which we are committed today at home and around the world   let every nation know  whether it wishes us well or ill  that we shall pay any price  bear any burden  meet any hardship  support any friend  oppose any foe  in order to assure the survival and the success of liberty   this much we pledge    and more   to those old allies whose cultural and spiritual origins we share  we pledge the loyalty of faithful friends  united  there is little we cannot do in a host of cooperative ventures  divided  there is little we can do    for we dare not meet a powerful challenge at odds and split asunder   to those new states whom we welcome to the ranks of the free  we pledge our word that one form of colonial control shall not have passed away merely to be replaced by a far more iron tyranny  we shall not always expect to find them supporting our view  but we shall always hope to find them strongly supporting their own freedom    and to remember that  in the past  those who foolishly sought power by riding the back of the tiger ended up inside   to those peoples in the huts and villages across the globe struggling to break the bonds of mass misery  we pledge our best efforts to help them help themselves  for whatever period is required    not because the communists may be doing it  not because we seek their votes  but because it is right  if a free society cannot help the many who are poor  it cannot save the few who are rich   to our sister republics south of our border  we offer a special pledge    to convert our good words into good deeds    in a new alliance for progress    to assist free men and free governments in casting off the chains of poverty  but this peaceful revolution of hope cannot become the prey of hostile powers  let all our neighbors know that we shall join with them to oppose aggression or subversion anywhere in the americas  and let every other power know that this hemisphere intends to remain the master of its own house   to that world assembly of sovereign states  the united nations  our last best hope in an age where the instruments of war have far outpaced the instruments of peace  we renew our pledge of support  to prevent it from becoming merely a forum for invective    to strengthen its shield of the new and the weak    and to enlarge the area in which its writ may run   finally  to those nations who would make themselves our adversary  we offer not a pledge but a request  that both sides begin anew the quest for peace  before the dark powers of destruction unleashed by science engulf all humanity in planned or accidental self destruction   we dare not tempt them with weakness  for only when our arms are sufficient beyond doubt can we be certain beyond doubt that they will never be employed   but neither can two great and powerful groups of nations take comfort from our present course    both sides overburdened by the cost of modern weapons  both rightly alarmed by the steady spread of the deadly atom  yet both racing to alter that uncertain balance of terror that stays the hand of mankind s final war   so let us begin anew    remembering on both sides that civility is not a sign of weakness  and sincerity is always subject to proof  let us never negotiate out of fear  but let us never fear to negotiate   let both sides explore what problems unite us instead of belaboring those problems which divide us   let both sides  for the first time  formulate serious and precise proposals for the inspection and control of arms    and bring the absolute power to destroy other nations under the absolute control of all nations   let both sides seek to invoke the wonders of science instead of its terrors  together let us explore the stars  conquer the deserts  eradicate disease  tap the ocean depths  and encourage the arts and commerce   let both sides unite to heed in all corners of the earth the command of isaiah    to  undo the heavy burdens     and to let the oppressed go free    and if a beachhead of cooperation may push back the jungle of suspicion  let both sides join in creating a new endeavor  not a new balance of power  but a new world of law  where the strong are just and the weak secure and the peace preserved   all this will not be finished in the first     days  nor will it be finished in the first       days  nor in the life of this administration  nor even perhaps in our lifetime on this planet  but let us begin   in your hands  my fellow citizens  more than in mine  will rest the final success or failure of our course  since this country was founded  each generation of americans has been summoned to give testimony to its national loyalty  the graves of young americans who answered the call to service surround the globe   now the trumpet summons us again    not as a call to bear arms  though arms we need  not as a call to battle  though embattled we are    but a call to bear the burden of a long twilight struggle  year in and year out   rejoicing in hope  patient in tribulation     a struggle against the common enemies of man  tyranny  poverty  disease  and war itself   can we forge against these enemies a grand and global alliance  north and south  east and west  that can assure a more fruitful life for all mankind  will you join in that historic effort   in the long history of the world  only a few generations have been granted the role of defending freedom in its hour of maximum danger  i do not shrink from this responsibility    i welcome it  i do not believe that any of us would exchange places with any other people or any other generation  the energy  the faith  the devotion which we bring to this endeavor will light our country and all who serve it    and the glow from that fire can truly light the world   and so  my fellow americans  ask not what your country can do for you    ask what you can do for your country   my fellow citizens of the world  ask not what america will do for you  but what together we can do for the freedom of man   finally  whether you are citizens of america or citizens of the world  ask of us the same high standards of strength and sacrifice which we ask of you  with a good conscience our only sure reward  with history the final judge of our deeds  let us go forth to lead the land we love  asking his blessing and his help  but knowing that here on earth god s work must truly be our own  '"
      ]
     },
     "execution_count": 27,
     "metadata": {},
     "output_type": "execute_result"
    }
   ],
   "source": [
    "K = re.sub(\"[^a-zA-Z]\",\" \",str(K))\n",
    "K"
   ]
  },
  {
   "cell_type": "code",
   "execution_count": 28,
   "id": "5f75ebf5",
   "metadata": {},
   "outputs": [
    {
     "data": {
      "text/plain": [
       "'mr. vice president, mr. speaker, mr. chief justice, senator cook, mrs. eisenhower, and my fellow citizens of this great and good country we share together:\\n\\nwhen we met here four years ago, america was bleak in spirit, depressed by the prospect of seemingly endless war abroad and of destructive conflict at home.\\n\\nas we meet here today, we stand on the threshold of a new era of peace in the world.\\n\\nthe central question before us is: how shall we use that peace? let us resolve that this era we are about to enter will not be what other postwar periods have so often been: a time of retreat and isolation that leads to stagnation at home and invites new danger abroad.\\n\\nlet us resolve that this will be what it can become: a time of great responsibilities greatly borne, in which we renew the spirit and the promise of america as we enter our third century as a nation.\\n\\nthis past year saw far-reaching results from our new policies for peace. by continuing to revitalize our traditional friendships, and by our missions to peking and to moscow, we were able to establish the base for a new and more durable pattern of relationships among the nations of the world. because of america\\'s bold initiatives, 1972 will be long remembered as the year of the greatest progress since the end of world war ii toward a lasting peace in the world.\\n\\nthe peace we seek in the world is not the flimsy peace which is merely an interlude between wars, but a peace which can endure for generations to come.\\n\\nit is important that we understand both the necessity and the limitations of america\\'s role in maintaining that peace.\\n\\nunless we in america work to preserve the peace, there will be no peace.\\n\\nunless we in america work to preserve freedom, there will be no freedom.\\n\\nbut let us clearly understand the new nature of america\\'s role, as a result of the new policies we have adopted over these past four years.\\n\\nwe shall respect our treaty commitments.\\n\\nwe shall support vigorously the principle that no country has the right to impose its will or rule on another by force.\\n\\nwe shall continue, in this era of negotiation, to work for the limitation of nuclear arms, and to reduce the danger of confrontation between the great powers.\\n\\nwe shall do our share in defending peace and freedom in the world. but we shall expect others to do their share.\\n\\nthe time has passed when america will make every other nation\\'s conflict our own, or make every other nation\\'s future our responsibility, or presume to tell the people of other nations how to manage their own affairs.\\n\\njust as we respect the right of each nation to determine its own future, we also recognize the responsibility of each nation to secure its own future.\\n\\njust as america\\'s role is indispensable in preserving the world\\'s peace, so is each nation\\'s role indispensable in preserving its own peace.\\n\\ntogether with the rest of the world, let us resolve to move forward from the beginnings we have made. let us continue to bring down the walls of hostility which have divided the world for too long, and to build in their place bridges of understanding -- so that despite profound differences between systems of government, the people of the world can be friends.\\n\\nlet us build a structure of peace in the world in which the weak are as safe as the strong -- in which each respects the right of the other to live by a different system -- in which those who would influence others will do so by the strength of their ideas, and not by the force of their arms.\\n\\nlet us accept that high responsibility not as a burden, but gladly -- gladly because the chance to build such a peace is the noblest endeavor in which a nation can engage; gladly, also, because only if we act greatly in meeting our responsibilities abroad will we remain a great nation, and only if we remain a great nation will we act greatly in meeting our challenges at home.\\n\\nwe have the chance today to do more than ever before in our history to make life better in america -- to ensure better education, better health, better housing, better transportation, a cleaner environment -- to restore respect for law, to make our communities more livable -- and to insure the god-given right of every american to full and equal opportunity.\\n\\nbecause the range of our needs is so great -- because the reach of our opportunities is so great -- let us be bold in our determination to meet those needs in new ways.\\n\\njust as building a structure of peace abroad has required turning away from old policies that failed, so building a new era of progress at home requires turning away from old policies that have failed.\\n\\nabroad, the shift from old policies to new has not been a retreat from our responsibilities, but a better way to peace.\\n\\nand at home, the shift from old policies to new will not be a retreat from our responsibilities, but a better way to progress.\\n\\nabroad and at home, the key to those new responsibilities lies in the placing and the division of responsibility. we have lived too long with the consequences of attempting to gather all power and responsibility in washington.\\n\\nabroad and at home, the time has come to turn away from the condescending policies of paternalism -- of \"washington knows best.\"\\n\\na person can be expected to act responsibly only if he has responsibility. this is human nature. so let us encourage individuals at home and nations abroad to do more for themselves, to decide more for themselves. let us locate responsibility in more places. let us measure what we will do for others by what they will do for themselves.\\n\\nthat is why today i offer no promise of a purely governmental solution for every problem. we have lived too long with that false promise. in trusting too much in government, we have asked of it more than it can deliver. this leads only to inflated expectations, to reduced individual effort, and to a disappointment and frustration that erode confidence both in what government can do and in what people can do.\\n\\ngovernment must learn to take less from people so that people an do more for themselves.\\n\\nlet us remember that america was built not by government, but by people -- not by welfare, but by work -- not by shirking responsibility, but by seeking responsibility.\\n\\nin our own lives, let each of us ask -- not just what will government do for me, but what can i do for myself?\\n\\nin the challenges we face together, let each of us ask -- not just how can government help, but how can i help?\\n\\nyour national government has a great and vital role to play. and i pledge to you that where this government should act, we will act boldly and we will lead boldly. but just as important is the role that each and every one of us must play, as an individual and as a member of his own community.\\n\\nfrom this day forward, let each of us make a solemn commitment in his own heart: to bear his responsibility, to do his part, to live his ideals -- so that together, we can see the dawn of a new age of progress for america, and together, as we celebrate our 200th anniversary as a nation, we can do so proud in the fulfillment of our promise to ourselves and to the world.\\n\\nas america\\'s longest and most difficult war comes to an end, let us again learn to debate our differences with civility and decency. and let each of us reach out for that one precious quality government cannot provide -- a new level of respect for the rights and feelings of one another, a new level of respect for the individual human dignity which is the cherished birthright of every american.\\n\\nabove all else, the time has come for us to renew our faith in ourselves and in america.\\n\\nin recent years, that faith has been challenged.\\n\\nour children have been taught to be ashamed of their country, ashamed of their parents, ashamed of america\\'s record at home and of its role in the world.\\n\\nat every turn, we have been beset by those who find everything wrong with america and little that is right. but i am confident that this will not be the judgment of history on these remarkable times in which we are privileged to live.\\n\\namerica\\'s record in this century has been unparalleled in the world\\'s history for its responsibility, for its generosity, for its creativity and for its progress.\\n\\nlet us be proud that our system has produced and provided more freedom and more abundance, more widely shared, than any other system in the history of the world.\\n\\nlet us be proud that in each of the four wars in which we have been engaged in this century, including the one we are now bringing to an end, we have fought not for our selfish advantage, but to help others resist aggression.\\n\\nlet us be proud that by our bold, new initiatives, and by our steadfastness for peace with honor, we have made a break-through toward creating in the world what the world has not known before -- a structure of peace that can last, not merely for our time, but for generations to come.\\n\\nwe are embarking here today on an era that presents challenges great as those any nation, or any generation, has ever faced.\\n\\nwe shall answer to god, to history, and to our conscience for the way in which we use these years.\\n\\nas i stand in this place, so hallowed by history, i think of others who have stood here before me. i think of the dreams they had for america, and i think of how each recognized that he needed help far beyond himself in order to make those dreams come true.\\n\\ntoday, i ask your prayers that in the years ahead i may have god\\'s help in making decisions that are right for america, and i pray for your help so that together we may be worthy of our challenge.\\n\\nlet us pledge together to make these next four years the best four years in america\\'s history, so that on its 200th birthday america will be as young and as vital as when it began, and as bright a beacon of hope for all the world.\\n\\nlet us go forward from here confident in hope, strong in our faith in one another, sustained by our faith in god who created us, and striving always to serve his purpose.\\n'"
      ]
     },
     "execution_count": 28,
     "metadata": {},
     "output_type": "execute_result"
    }
   ],
   "source": [
    "## Converting to Lower Case\n",
    "N = inaugural.raw(\"1973-Nixon.txt\").lower()\n",
    "N"
   ]
  },
  {
   "cell_type": "code",
   "execution_count": 29,
   "id": "39a11769",
   "metadata": {},
   "outputs": [],
   "source": [
    "N = re.sub(\"[^a-zA-Z]\",\" \",str(N))"
   ]
  },
  {
   "cell_type": "code",
   "execution_count": 30,
   "id": "b46f436d",
   "metadata": {},
   "outputs": [
    {
     "data": {
      "text/plain": [
       "'mr  vice president  mr  speaker  mr  chief justice  senator cook  mrs  eisenhower  and my fellow citizens of this great and good country we share together   when we met here four years ago  america was bleak in spirit  depressed by the prospect of seemingly endless war abroad and of destructive conflict at home   as we meet here today  we stand on the threshold of a new era of peace in the world   the central question before us is  how shall we use that peace  let us resolve that this era we are about to enter will not be what other postwar periods have so often been  a time of retreat and isolation that leads to stagnation at home and invites new danger abroad   let us resolve that this will be what it can become  a time of great responsibilities greatly borne  in which we renew the spirit and the promise of america as we enter our third century as a nation   this past year saw far reaching results from our new policies for peace  by continuing to revitalize our traditional friendships  and by our missions to peking and to moscow  we were able to establish the base for a new and more durable pattern of relationships among the nations of the world  because of america s bold initiatives       will be long remembered as the year of the greatest progress since the end of world war ii toward a lasting peace in the world   the peace we seek in the world is not the flimsy peace which is merely an interlude between wars  but a peace which can endure for generations to come   it is important that we understand both the necessity and the limitations of america s role in maintaining that peace   unless we in america work to preserve the peace  there will be no peace   unless we in america work to preserve freedom  there will be no freedom   but let us clearly understand the new nature of america s role  as a result of the new policies we have adopted over these past four years   we shall respect our treaty commitments   we shall support vigorously the principle that no country has the right to impose its will or rule on another by force   we shall continue  in this era of negotiation  to work for the limitation of nuclear arms  and to reduce the danger of confrontation between the great powers   we shall do our share in defending peace and freedom in the world  but we shall expect others to do their share   the time has passed when america will make every other nation s conflict our own  or make every other nation s future our responsibility  or presume to tell the people of other nations how to manage their own affairs   just as we respect the right of each nation to determine its own future  we also recognize the responsibility of each nation to secure its own future   just as america s role is indispensable in preserving the world s peace  so is each nation s role indispensable in preserving its own peace   together with the rest of the world  let us resolve to move forward from the beginnings we have made  let us continue to bring down the walls of hostility which have divided the world for too long  and to build in their place bridges of understanding    so that despite profound differences between systems of government  the people of the world can be friends   let us build a structure of peace in the world in which the weak are as safe as the strong    in which each respects the right of the other to live by a different system    in which those who would influence others will do so by the strength of their ideas  and not by the force of their arms   let us accept that high responsibility not as a burden  but gladly    gladly because the chance to build such a peace is the noblest endeavor in which a nation can engage  gladly  also  because only if we act greatly in meeting our responsibilities abroad will we remain a great nation  and only if we remain a great nation will we act greatly in meeting our challenges at home   we have the chance today to do more than ever before in our history to make life better in america    to ensure better education  better health  better housing  better transportation  a cleaner environment    to restore respect for law  to make our communities more livable    and to insure the god given right of every american to full and equal opportunity   because the range of our needs is so great    because the reach of our opportunities is so great    let us be bold in our determination to meet those needs in new ways   just as building a structure of peace abroad has required turning away from old policies that failed  so building a new era of progress at home requires turning away from old policies that have failed   abroad  the shift from old policies to new has not been a retreat from our responsibilities  but a better way to peace   and at home  the shift from old policies to new will not be a retreat from our responsibilities  but a better way to progress   abroad and at home  the key to those new responsibilities lies in the placing and the division of responsibility  we have lived too long with the consequences of attempting to gather all power and responsibility in washington   abroad and at home  the time has come to turn away from the condescending policies of paternalism    of  washington knows best    a person can be expected to act responsibly only if he has responsibility  this is human nature  so let us encourage individuals at home and nations abroad to do more for themselves  to decide more for themselves  let us locate responsibility in more places  let us measure what we will do for others by what they will do for themselves   that is why today i offer no promise of a purely governmental solution for every problem  we have lived too long with that false promise  in trusting too much in government  we have asked of it more than it can deliver  this leads only to inflated expectations  to reduced individual effort  and to a disappointment and frustration that erode confidence both in what government can do and in what people can do   government must learn to take less from people so that people an do more for themselves   let us remember that america was built not by government  but by people    not by welfare  but by work    not by shirking responsibility  but by seeking responsibility   in our own lives  let each of us ask    not just what will government do for me  but what can i do for myself   in the challenges we face together  let each of us ask    not just how can government help  but how can i help   your national government has a great and vital role to play  and i pledge to you that where this government should act  we will act boldly and we will lead boldly  but just as important is the role that each and every one of us must play  as an individual and as a member of his own community   from this day forward  let each of us make a solemn commitment in his own heart  to bear his responsibility  to do his part  to live his ideals    so that together  we can see the dawn of a new age of progress for america  and together  as we celebrate our    th anniversary as a nation  we can do so proud in the fulfillment of our promise to ourselves and to the world   as america s longest and most difficult war comes to an end  let us again learn to debate our differences with civility and decency  and let each of us reach out for that one precious quality government cannot provide    a new level of respect for the rights and feelings of one another  a new level of respect for the individual human dignity which is the cherished birthright of every american   above all else  the time has come for us to renew our faith in ourselves and in america   in recent years  that faith has been challenged   our children have been taught to be ashamed of their country  ashamed of their parents  ashamed of america s record at home and of its role in the world   at every turn  we have been beset by those who find everything wrong with america and little that is right  but i am confident that this will not be the judgment of history on these remarkable times in which we are privileged to live   america s record in this century has been unparalleled in the world s history for its responsibility  for its generosity  for its creativity and for its progress   let us be proud that our system has produced and provided more freedom and more abundance  more widely shared  than any other system in the history of the world   let us be proud that in each of the four wars in which we have been engaged in this century  including the one we are now bringing to an end  we have fought not for our selfish advantage  but to help others resist aggression   let us be proud that by our bold  new initiatives  and by our steadfastness for peace with honor  we have made a break through toward creating in the world what the world has not known before    a structure of peace that can last  not merely for our time  but for generations to come   we are embarking here today on an era that presents challenges great as those any nation  or any generation  has ever faced   we shall answer to god  to history  and to our conscience for the way in which we use these years   as i stand in this place  so hallowed by history  i think of others who have stood here before me  i think of the dreams they had for america  and i think of how each recognized that he needed help far beyond himself in order to make those dreams come true   today  i ask your prayers that in the years ahead i may have god s help in making decisions that are right for america  and i pray for your help so that together we may be worthy of our challenge   let us pledge together to make these next four years the best four years in america s history  so that on its    th birthday america will be as young and as vital as when it began  and as bright a beacon of hope for all the world   let us go forward from here confident in hope  strong in our faith in one another  sustained by our faith in god who created us  and striving always to serve his purpose  '"
      ]
     },
     "execution_count": 30,
     "metadata": {},
     "output_type": "execute_result"
    }
   ],
   "source": [
    "N"
   ]
  },
  {
   "cell_type": "markdown",
   "id": "46a86fff",
   "metadata": {},
   "source": [
    "### 2.2 Remove all the stopwords from all three speeches.\n",
    "\n",
    "2.2) Remove all the stopwords from the three speeches. Show the word count before and after the removal of stopwords. Show a sample sentence after the removal of stopwords."
   ]
  },
  {
   "cell_type": "code",
   "execution_count": 31,
   "id": "0dce11d6",
   "metadata": {},
   "outputs": [
    {
     "name": "stderr",
     "output_type": "stream",
     "text": [
      "[nltk_data] Downloading package stopwords to\n",
      "[nltk_data]     C:\\Users\\ADIL\\AppData\\Roaming\\nltk_data...\n",
      "[nltk_data]   Package stopwords is already up-to-date!\n"
     ]
    },
    {
     "data": {
      "text/plain": [
       "True"
      ]
     },
     "execution_count": 31,
     "metadata": {},
     "output_type": "execute_result"
    }
   ],
   "source": [
    "nltk.download('stopwords')"
   ]
  },
  {
   "cell_type": "code",
   "execution_count": 32,
   "id": "3876be29",
   "metadata": {},
   "outputs": [
    {
     "name": "stdout",
     "output_type": "stream",
     "text": [
      "['on', 'each', 'national', 'day', 'of', 'inauguration', 'since', 'the', 'people', 'have', 'renewed', 'their', 'sense', 'of', 'dedication', 'to', 'the', 'united', 'states', 'in', 'washington', 's', 'day', 'the', 'task', 'of', 'the', 'people', 'was', 'to', 'create', 'and', 'weld', 'together', 'a', 'nation', 'in', 'lincoln', 's', 'day', 'the', 'task', 'of', 'the', 'people', 'was', 'to', 'preserve', 'that', 'nation', 'from', 'disruption', 'from', 'within', 'in', 'this', 'day', 'the', 'task', 'of', 'the', 'people', 'is', 'to', 'save', 'that', 'nation', 'and', 'its', 'institutions', 'from', 'disruption', 'from', 'without', 'to', 'us', 'there', 'has', 'come', 'a', 'time', 'in', 'the', 'midst', 'of', 'swift', 'happenings', 'to', 'pause', 'for', 'a', 'moment', 'and', 'take', 'stock', 'to', 'recall', 'what', 'our', 'place', 'in', 'history', 'has', 'been', 'and', 'to', 'rediscover', 'what', 'we', 'are', 'and', 'what', 'we', 'may', 'be', 'if', 'we', 'do', 'not', 'we', 'risk', 'the', 'real', 'peril', 'of', 'inaction', 'lives', 'of', 'nations', 'are', 'determined', 'not', 'by', 'the', 'count', 'of', 'years', 'but', 'by', 'the', 'lifetime', 'of', 'the', 'human', 'spirit', 'the', 'life', 'of', 'a', 'man', 'is', 'three', 'score', 'years', 'and', 'ten', 'a', 'little', 'more', 'a', 'little', 'less', 'the', 'life', 'of', 'a', 'nation', 'is', 'the', 'fullness', 'of', 'the', 'measure', 'of', 'its', 'will', 'to', 'live', 'there', 'are', 'men', 'who', 'doubt', 'this', 'there', 'are', 'men', 'who', 'believe', 'that', 'democracy', 'as', 'a', 'form', 'of', 'government', 'and', 'a', 'frame', 'of', 'life', 'is', 'limited', 'or', 'measured', 'by', 'a', 'kind', 'of', 'mystical', 'and', 'artificial', 'fate', 'that', 'for', 'some', 'unexplained', 'reason', 'tyranny', 'and', 'slavery', 'have', 'become', 'the', 'surging', 'wave', 'of', 'the', 'future', 'and', 'that', 'freedom', 'is', 'an', 'ebbing', 'tide', 'but', 'we', 'americans', 'know', 'that', 'this', 'is', 'not', 'true', 'eight', 'years', 'ago', 'when', 'the', 'life', 'of', 'this', 'republic', 'seemed', 'frozen', 'by', 'a', 'fatalistic', 'terror', 'we', 'proved', 'that', 'this', 'is', 'not', 'true', 'we', 'were', 'in', 'the', 'midst', 'of', 'shock', 'but', 'we', 'acted', 'we', 'acted', 'quickly', 'boldly', 'decisively', 'these', 'later', 'years', 'have', 'been', 'living', 'years', 'fruitful', 'years', 'for', 'the', 'people', 'of', 'this', 'democracy', 'for', 'they', 'have', 'brought', 'to', 'us', 'greater', 'security', 'and', 'i', 'hope', 'a', 'better', 'understanding', 'that', 'life', 's', 'ideals', 'are', 'to', 'be', 'measured', 'in', 'other', 'than', 'material', 'things', 'most', 'vital', 'to', 'our', 'present', 'and', 'our', 'future', 'is', 'this', 'experience', 'of', 'a', 'democracy', 'which', 'successfully', 'survived', 'crisis', 'at', 'home', 'put', 'away', 'many', 'evil', 'things', 'built', 'new', 'structures', 'on', 'enduring', 'lines', 'and', 'through', 'it', 'all', 'maintained', 'the', 'fact', 'of', 'its', 'democracy', 'for', 'action', 'has', 'been', 'taken', 'within', 'the', 'three', 'way', 'framework', 'of', 'the', 'constitution', 'of', 'the', 'united', 'states', 'the', 'coordinate', 'branches', 'of', 'the', 'government', 'continue', 'freely', 'to', 'function', 'the', 'bill', 'of', 'rights', 'remains', 'inviolate', 'the', 'freedom', 'of', 'elections', 'is', 'wholly', 'maintained', 'prophets', 'of', 'the', 'downfall', 'of', 'american', 'democracy', 'have', 'seen', 'their', 'dire', 'predictions', 'come', 'to', 'naught', 'democracy', 'is', 'not', 'dying', 'we', 'know', 'it', 'because', 'we', 'have', 'seen', 'it', 'revive', 'and', 'grow', 'we', 'know', 'it', 'can', 'not', 'die', 'because', 'it', 'is', 'built', 'on', 'the', 'unhampered', 'initiative', 'of', 'individual', 'men', 'and', 'women', 'joined', 'together', 'in', 'a', 'common', 'enterprise', 'an', 'enterprise', 'undertaken', 'and', 'carried', 'through', 'by', 'the', 'free', 'expression', 'of', 'a', 'free', 'majority', 'we', 'know', 'it', 'because', 'democracy', 'alone', 'of', 'all', 'forms', 'of', 'government', 'enlists', 'the', 'full', 'force', 'of', 'men', 's', 'enlightened', 'will', 'we', 'know', 'it', 'because', 'democracy', 'alone', 'has', 'constructed', 'an', 'unlimited', 'civilization', 'capable', 'of', 'infinite', 'progress', 'in', 'the', 'improvement', 'of', 'human', 'life', 'we', 'know', 'it', 'because', 'if', 'we', 'look', 'below', 'the', 'surface', 'we', 'sense', 'it', 'still', 'spreading', 'on', 'every', 'continent', 'for', 'it', 'is', 'the', 'most', 'humane', 'the', 'most', 'advanced', 'and', 'in', 'the', 'end', 'the', 'most', 'unconquerable', 'of', 'all', 'forms', 'of', 'human', 'society', 'a', 'nation', 'like', 'a', 'person', 'has', 'a', 'body', 'a', 'body', 'that', 'must', 'be', 'fed', 'and', 'clothed', 'and', 'housed', 'invigorated', 'and', 'rested', 'in', 'a', 'manner', 'that', 'measures', 'up', 'to', 'the', 'objectives', 'of', 'our', 'time', 'a', 'nation', 'like', 'a', 'person', 'has', 'a', 'mind', 'a', 'mind', 'that', 'must', 'be', 'kept', 'informed', 'and', 'alert', 'that', 'must', 'know', 'itself', 'that', 'understands', 'the', 'hopes', 'and', 'the', 'needs', 'of', 'its', 'neighbors', 'all', 'the', 'other', 'nations', 'that', 'live', 'within', 'the', 'narrowing', 'circle', 'of', 'the', 'world', 'and', 'a', 'nation', 'like', 'a', 'person', 'has', 'something', 'deeper', 'something', 'more', 'permanent', 'something', 'larger', 'than', 'the', 'sum', 'of', 'all', 'its', 'parts', 'it', 'is', 'that', 'something', 'which', 'matters', 'most', 'to', 'its', 'future', 'which', 'calls', 'forth', 'the', 'most', 'sacred', 'guarding', 'of', 'its', 'present', 'it', 'is', 'a', 'thing', 'for', 'which', 'we', 'find', 'it', 'difficult', 'even', 'impossible', 'to', 'hit', 'upon', 'a', 'single', 'simple', 'word', 'and', 'yet', 'we', 'all', 'understand', 'what', 'it', 'is', 'the', 'spirit', 'the', 'faith', 'of', 'america', 'it', 'is', 'the', 'product', 'of', 'centuries', 'it', 'was', 'born', 'in', 'the', 'multitudes', 'of', 'those', 'who', 'came', 'from', 'many', 'lands', 'some', 'of', 'high', 'degree', 'but', 'mostly', 'plain', 'people', 'who', 'sought', 'here', 'early', 'and', 'late', 'to', 'find', 'freedom', 'more', 'freely', 'the', 'democratic', 'aspiration', 'is', 'no', 'mere', 'recent', 'phase', 'in', 'human', 'history', 'it', 'is', 'human', 'history', 'it', 'permeated', 'the', 'ancient', 'life', 'of', 'early', 'peoples', 'it', 'blazed', 'anew', 'in', 'the', 'middle', 'ages', 'it', 'was', 'written', 'in', 'magna', 'charta', 'in', 'the', 'americas', 'its', 'impact', 'has', 'been', 'irresistible', 'america', 'has', 'been', 'the', 'new', 'world', 'in', 'all', 'tongues', 'to', 'all', 'peoples', 'not', 'because', 'this', 'continent', 'was', 'a', 'new', 'found', 'land', 'but', 'because', 'all', 'those', 'who', 'came', 'here', 'believed', 'they', 'could', 'create', 'upon', 'this', 'continent', 'a', 'new', 'life', 'a', 'life', 'that', 'should', 'be', 'new', 'in', 'freedom', 'its', 'vitality', 'was', 'written', 'into', 'our', 'own', 'mayflower', 'compact', 'into', 'the', 'declaration', 'of', 'independence', 'into', 'the', 'constitution', 'of', 'the', 'united', 'states', 'into', 'the', 'gettysburg', 'address', 'those', 'who', 'first', 'came', 'here', 'to', 'carry', 'out', 'the', 'longings', 'of', 'their', 'spirit', 'and', 'the', 'millions', 'who', 'followed', 'and', 'the', 'stock', 'that', 'sprang', 'from', 'them', 'all', 'have', 'moved', 'forward', 'constantly', 'and', 'consistently', 'toward', 'an', 'ideal', 'which', 'in', 'itself', 'has', 'gained', 'stature', 'and', 'clarity', 'with', 'each', 'generation', 'the', 'hopes', 'of', 'the', 'republic', 'can', 'not', 'forever', 'tolerate', 'either', 'undeserved', 'poverty', 'or', 'self', 'serving', 'wealth', 'we', 'know', 'that', 'we', 'still', 'have', 'far', 'to', 'go', 'that', 'we', 'must', 'more', 'greatly', 'build', 'the', 'security', 'and', 'the', 'opportunity', 'and', 'the', 'knowledge', 'of', 'every', 'citizen', 'in', 'the', 'measure', 'justified', 'by', 'the', 'resources', 'and', 'the', 'capacity', 'of', 'the', 'land', 'but', 'it', 'is', 'not', 'enough', 'to', 'achieve', 'these', 'purposes', 'alone', 'it', 'is', 'not', 'enough', 'to', 'clothe', 'and', 'feed', 'the', 'body', 'of', 'this', 'nation', 'and', 'instruct', 'and', 'inform', 'its', 'mind', 'for', 'there', 'is', 'also', 'the', 'spirit', 'and', 'of', 'the', 'three', 'the', 'greatest', 'is', 'the', 'spirit', 'without', 'the', 'body', 'and', 'the', 'mind', 'as', 'all', 'men', 'know', 'the', 'nation', 'could', 'not', 'live', 'but', 'if', 'the', 'spirit', 'of', 'america', 'were', 'killed', 'even', 'though', 'the', 'nation', 's', 'body', 'and', 'mind', 'constricted', 'in', 'an', 'alien', 'world', 'lived', 'on', 'the', 'america', 'we', 'know', 'would', 'have', 'perished', 'that', 'spirit', 'that', 'faith', 'speaks', 'to', 'us', 'in', 'our', 'daily', 'lives', 'in', 'ways', 'often', 'unnoticed', 'because', 'they', 'seem', 'so', 'obvious', 'it', 'speaks', 'to', 'us', 'here', 'in', 'the', 'capital', 'of', 'the', 'nation', 'it', 'speaks', 'to', 'us', 'through', 'the', 'processes', 'of', 'governing', 'in', 'the', 'sovereignties', 'of', 'states', 'it', 'speaks', 'to', 'us', 'in', 'our', 'counties', 'in', 'our', 'cities', 'in', 'our', 'towns', 'and', 'in', 'our', 'villages', 'it', 'speaks', 'to', 'us', 'from', 'the', 'other', 'nations', 'of', 'the', 'hemisphere', 'and', 'from', 'those', 'across', 'the', 'seas', 'the', 'enslaved', 'as', 'well', 'as', 'the', 'free', 'sometimes', 'we', 'fail', 'to', 'hear', 'or', 'heed', 'these', 'voices', 'of', 'freedom', 'because', 'to', 'us', 'the', 'privilege', 'of', 'our', 'freedom', 'is', 'such', 'an', 'old', 'old', 'story', 'the', 'destiny', 'of', 'america', 'was', 'proclaimed', 'in', 'words', 'of', 'prophecy', 'spoken', 'by', 'our', 'first', 'president', 'in', 'his', 'first', 'inaugural', 'in', 'words', 'almost', 'directed', 'it', 'would', 'seem', 'to', 'this', 'year', 'of', 'the', 'preservation', 'of', 'the', 'sacred', 'fire', 'of', 'liberty', 'and', 'the', 'destiny', 'of', 'the', 'republican', 'model', 'of', 'government', 'are', 'justly', 'considered', 'deeply', 'finally', 'staked', 'on', 'the', 'experiment', 'intrusted', 'to', 'the', 'hands', 'of', 'the', 'american', 'people', 'if', 'we', 'lose', 'that', 'sacred', 'fire', 'if', 'we', 'let', 'it', 'be', 'smothered', 'with', 'doubt', 'and', 'fear', 'then', 'we', 'shall', 'reject', 'the', 'destiny', 'which', 'washington', 'strove', 'so', 'valiantly', 'and', 'so', 'triumphantly', 'to', 'establish', 'the', 'preservation', 'of', 'the', 'spirit', 'and', 'faith', 'of', 'the', 'nation', 'does', 'and', 'will', 'furnish', 'the', 'highest', 'justification', 'for', 'every', 'sacrifice', 'that', 'we', 'may', 'make', 'in', 'the', 'cause', 'of', 'national', 'defense', 'in', 'the', 'face', 'of', 'great', 'perils', 'never', 'before', 'encountered', 'our', 'strong', 'purpose', 'is', 'to', 'protect', 'and', 'to', 'perpetuate', 'the', 'integrity', 'of', 'democracy', 'for', 'this', 'we', 'muster', 'the', 'spirit', 'of', 'america', 'and', 'the', 'faith', 'of', 'america', 'we', 'do', 'not', 'retreat', 'we', 'are', 'not', 'content', 'to', 'stand', 'still', 'as', 'americans', 'we', 'go', 'forward', 'in', 'the', 'service', 'of', 'our', 'country', 'by', 'the', 'will', 'of', 'god']\n"
     ]
    }
   ],
   "source": [
    "## Tokenization -  Splitting the text files into words\n",
    "tokens = nltk.word_tokenize(R)\n",
    "print(tokens)"
   ]
  },
  {
   "cell_type": "code",
   "execution_count": 33,
   "id": "b4f2abc5",
   "metadata": {},
   "outputs": [],
   "source": [
    "## Stop words -  Removing words that are not useful or Removing meaningless words \n",
    "from nltk.corpus import stopwords\n",
    "en_stop = stopwords.words('english')\n",
    "stopped_tokens = [i for i in tokens if not i in en_stop]"
   ]
  },
  {
   "cell_type": "code",
   "execution_count": 34,
   "id": "96e311a8",
   "metadata": {},
   "outputs": [
    {
     "data": {
      "text/plain": [
       "7571"
      ]
     },
     "execution_count": 34,
     "metadata": {},
     "output_type": "execute_result"
    }
   ],
   "source": [
    "len(R)"
   ]
  },
  {
   "cell_type": "code",
   "execution_count": 35,
   "id": "ac3ea1cd",
   "metadata": {},
   "outputs": [
    {
     "data": {
      "text/plain": [
       "625"
      ]
     },
     "execution_count": 35,
     "metadata": {},
     "output_type": "execute_result"
    }
   ],
   "source": [
    "len(stopped_tokens)"
   ]
  },
  {
   "cell_type": "code",
   "execution_count": 36,
   "id": "a0e6fa58",
   "metadata": {},
   "outputs": [
    {
     "name": "stdout",
     "output_type": "stream",
     "text": [
      "['vice', 'president', 'johnson', 'mr', 'speaker', 'mr', 'chief', 'justice', 'president', 'eisenhower', 'vice', 'president', 'nixon', 'president', 'truman', 'reverend', 'clergy', 'fellow', 'citizens', 'we', 'observe', 'today', 'not', 'a', 'victory', 'of', 'party', 'but', 'a', 'celebration', 'of', 'freedom', 'symbolizing', 'an', 'end', 'as', 'well', 'as', 'a', 'beginning', 'signifying', 'renewal', 'as', 'well', 'as', 'change', 'for', 'i', 'have', 'sworn', 'i', 'before', 'you', 'and', 'almighty', 'god', 'the', 'same', 'solemn', 'oath', 'our', 'forebears', 'l', 'prescribed', 'nearly', 'a', 'century', 'and', 'three', 'quarters', 'ago', 'the', 'world', 'is', 'very', 'different', 'now', 'for', 'man', 'holds', 'in', 'his', 'mortal', 'hands', 'the', 'power', 'to', 'abolish', 'all', 'forms', 'of', 'human', 'poverty', 'and', 'all', 'forms', 'of', 'human', 'life', 'and', 'yet', 'the', 'same', 'revolutionary', 'beliefs', 'for', 'which', 'our', 'forebears', 'fought', 'are', 'still', 'at', 'issue', 'around', 'the', 'globe', 'the', 'belief', 'that', 'the', 'rights', 'of', 'man', 'come', 'not', 'from', 'the', 'generosity', 'of', 'the', 'state', 'but', 'from', 'the', 'hand', 'of', 'god', 'we', 'dare', 'not', 'forget', 'today', 'that', 'we', 'are', 'the', 'heirs', 'of', 'that', 'first', 'revolution', 'let', 'the', 'word', 'go', 'forth', 'from', 'this', 'time', 'and', 'place', 'to', 'friend', 'and', 'foe', 'alike', 'that', 'the', 'torch', 'has', 'been', 'passed', 'to', 'a', 'new', 'generation', 'of', 'americans', 'born', 'in', 'this', 'century', 'tempered', 'by', 'war', 'disciplined', 'by', 'a', 'hard', 'and', 'bitter', 'peace', 'proud', 'of', 'our', 'ancient', 'heritage', 'and', 'unwilling', 'to', 'witness', 'or', 'permit', 'the', 'slow', 'undoing', 'of', 'those', 'human', 'rights', 'to', 'which', 'this', 'nation', 'has', 'always', 'been', 'committed', 'and', 'to', 'which', 'we', 'are', 'committed', 'today', 'at', 'home', 'and', 'around', 'the', 'world', 'let', 'every', 'nation', 'know', 'whether', 'it', 'wishes', 'us', 'well', 'or', 'ill', 'that', 'we', 'shall', 'pay', 'any', 'price', 'bear', 'any', 'burden', 'meet', 'any', 'hardship', 'support', 'any', 'friend', 'oppose', 'any', 'foe', 'in', 'order', 'to', 'assure', 'the', 'survival', 'and', 'the', 'success', 'of', 'liberty', 'this', 'much', 'we', 'pledge', 'and', 'more', 'to', 'those', 'old', 'allies', 'whose', 'cultural', 'and', 'spiritual', 'origins', 'we', 'share', 'we', 'pledge', 'the', 'loyalty', 'of', 'faithful', 'friends', 'united', 'there', 'is', 'little', 'we', 'can', 'not', 'do', 'in', 'a', 'host', 'of', 'cooperative', 'ventures', 'divided', 'there', 'is', 'little', 'we', 'can', 'do', 'for', 'we', 'dare', 'not', 'meet', 'a', 'powerful', 'challenge', 'at', 'odds', 'and', 'split', 'asunder', 'to', 'those', 'new', 'states', 'whom', 'we', 'welcome', 'to', 'the', 'ranks', 'of', 'the', 'free', 'we', 'pledge', 'our', 'word', 'that', 'one', 'form', 'of', 'colonial', 'control', 'shall', 'not', 'have', 'passed', 'away', 'merely', 'to', 'be', 'replaced', 'by', 'a', 'far', 'more', 'iron', 'tyranny', 'we', 'shall', 'not', 'always', 'expect', 'to', 'find', 'them', 'supporting', 'our', 'view', 'but', 'we', 'shall', 'always', 'hope', 'to', 'find', 'them', 'strongly', 'supporting', 'their', 'own', 'freedom', 'and', 'to', 'remember', 'that', 'in', 'the', 'past', 'those', 'who', 'foolishly', 'sought', 'power', 'by', 'riding', 'the', 'back', 'of', 'the', 'tiger', 'ended', 'up', 'inside', 'to', 'those', 'peoples', 'in', 'the', 'huts', 'and', 'villages', 'across', 'the', 'globe', 'struggling', 'to', 'break', 'the', 'bonds', 'of', 'mass', 'misery', 'we', 'pledge', 'our', 'best', 'efforts', 'to', 'help', 'them', 'help', 'themselves', 'for', 'whatever', 'period', 'is', 'required', 'not', 'because', 'the', 'communists', 'may', 'be', 'doing', 'it', 'not', 'because', 'we', 'seek', 'their', 'votes', 'but', 'because', 'it', 'is', 'right', 'if', 'a', 'free', 'society', 'can', 'not', 'help', 'the', 'many', 'who', 'are', 'poor', 'it', 'can', 'not', 'save', 'the', 'few', 'who', 'are', 'rich', 'to', 'our', 'sister', 'republics', 'south', 'of', 'our', 'border', 'we', 'offer', 'a', 'special', 'pledge', 'to', 'convert', 'our', 'good', 'words', 'into', 'good', 'deeds', 'in', 'a', 'new', 'alliance', 'for', 'progress', 'to', 'assist', 'free', 'men', 'and', 'free', 'governments', 'in', 'casting', 'off', 'the', 'chains', 'of', 'poverty', 'but', 'this', 'peaceful', 'revolution', 'of', 'hope', 'can', 'not', 'become', 'the', 'prey', 'of', 'hostile', 'powers', 'let', 'all', 'our', 'neighbors', 'know', 'that', 'we', 'shall', 'join', 'with', 'them', 'to', 'oppose', 'aggression', 'or', 'subversion', 'anywhere', 'in', 'the', 'americas', 'and', 'let', 'every', 'other', 'power', 'know', 'that', 'this', 'hemisphere', 'intends', 'to', 'remain', 'the', 'master', 'of', 'its', 'own', 'house', 'to', 'that', 'world', 'assembly', 'of', 'sovereign', 'states', 'the', 'united', 'nations', 'our', 'last', 'best', 'hope', 'in', 'an', 'age', 'where', 'the', 'instruments', 'of', 'war', 'have', 'far', 'outpaced', 'the', 'instruments', 'of', 'peace', 'we', 'renew', 'our', 'pledge', 'of', 'support', 'to', 'prevent', 'it', 'from', 'becoming', 'merely', 'a', 'forum', 'for', 'invective', 'to', 'strengthen', 'its', 'shield', 'of', 'the', 'new', 'and', 'the', 'weak', 'and', 'to', 'enlarge', 'the', 'area', 'in', 'which', 'its', 'writ', 'may', 'run', 'finally', 'to', 'those', 'nations', 'who', 'would', 'make', 'themselves', 'our', 'adversary', 'we', 'offer', 'not', 'a', 'pledge', 'but', 'a', 'request', 'that', 'both', 'sides', 'begin', 'anew', 'the', 'quest', 'for', 'peace', 'before', 'the', 'dark', 'powers', 'of', 'destruction', 'unleashed', 'by', 'science', 'engulf', 'all', 'humanity', 'in', 'planned', 'or', 'accidental', 'self', 'destruction', 'we', 'dare', 'not', 'tempt', 'them', 'with', 'weakness', 'for', 'only', 'when', 'our', 'arms', 'are', 'sufficient', 'beyond', 'doubt', 'can', 'we', 'be', 'certain', 'beyond', 'doubt', 'that', 'they', 'will', 'never', 'be', 'employed', 'but', 'neither', 'can', 'two', 'great', 'and', 'powerful', 'groups', 'of', 'nations', 'take', 'comfort', 'from', 'our', 'present', 'course', 'both', 'sides', 'overburdened', 'by', 'the', 'cost', 'of', 'modern', 'weapons', 'both', 'rightly', 'alarmed', 'by', 'the', 'steady', 'spread', 'of', 'the', 'deadly', 'atom', 'yet', 'both', 'racing', 'to', 'alter', 'that', 'uncertain', 'balance', 'of', 'terror', 'that', 'stays', 'the', 'hand', 'of', 'mankind', 's', 'final', 'war', 'so', 'let', 'us', 'begin', 'anew', 'remembering', 'on', 'both', 'sides', 'that', 'civility', 'is', 'not', 'a', 'sign', 'of', 'weakness', 'and', 'sincerity', 'is', 'always', 'subject', 'to', 'proof', 'let', 'us', 'never', 'negotiate', 'out', 'of', 'fear', 'but', 'let', 'us', 'never', 'fear', 'to', 'negotiate', 'let', 'both', 'sides', 'explore', 'what', 'problems', 'unite', 'us', 'instead', 'of', 'belaboring', 'those', 'problems', 'which', 'divide', 'us', 'let', 'both', 'sides', 'for', 'the', 'first', 'time', 'formulate', 'serious', 'and', 'precise', 'proposals', 'for', 'the', 'inspection', 'and', 'control', 'of', 'arms', 'and', 'bring', 'the', 'absolute', 'power', 'to', 'destroy', 'other', 'nations', 'under', 'the', 'absolute', 'control', 'of', 'all', 'nations', 'let', 'both', 'sides', 'seek', 'to', 'invoke', 'the', 'wonders', 'of', 'science', 'instead', 'of', 'its', 'terrors', 'together', 'let', 'us', 'explore', 'the', 'stars', 'conquer', 'the', 'deserts', 'eradicate', 'disease', 'tap', 'the', 'ocean', 'depths', 'and', 'encourage', 'the', 'arts', 'and', 'commerce', 'let', 'both', 'sides', 'unite', 'to', 'heed', 'in', 'all', 'corners', 'of', 'the', 'earth', 'the', 'command', 'of', 'isaiah', 'to', 'undo', 'the', 'heavy', 'burdens', 'and', 'to', 'let', 'the', 'oppressed', 'go', 'free', 'and', 'if', 'a', 'beachhead', 'of', 'cooperation', 'may', 'push', 'back', 'the', 'jungle', 'of', 'suspicion', 'let', 'both', 'sides', 'join', 'in', 'creating', 'a', 'new', 'endeavor', 'not', 'a', 'new', 'balance', 'of', 'power', 'but', 'a', 'new', 'world', 'of', 'law', 'where', 'the', 'strong', 'are', 'just', 'and', 'the', 'weak', 'secure', 'and', 'the', 'peace', 'preserved', 'all', 'this', 'will', 'not', 'be', 'finished', 'in', 'the', 'first', 'days', 'nor', 'will', 'it', 'be', 'finished', 'in', 'the', 'first', 'days', 'nor', 'in', 'the', 'life', 'of', 'this', 'administration', 'nor', 'even', 'perhaps', 'in', 'our', 'lifetime', 'on', 'this', 'planet', 'but', 'let', 'us', 'begin', 'in', 'your', 'hands', 'my', 'fellow', 'citizens', 'more', 'than', 'in', 'mine', 'will', 'rest', 'the', 'final', 'success', 'or', 'failure', 'of', 'our', 'course', 'since', 'this', 'country', 'was', 'founded', 'each', 'generation', 'of', 'americans', 'has', 'been', 'summoned', 'to', 'give', 'testimony', 'to', 'its', 'national', 'loyalty', 'the', 'graves', 'of', 'young', 'americans', 'who', 'answered', 'the', 'call', 'to', 'service', 'surround', 'the', 'globe', 'now', 'the', 'trumpet', 'summons', 'us', 'again', 'not', 'as', 'a', 'call', 'to', 'bear', 'arms', 'though', 'arms', 'we', 'need', 'not', 'as', 'a', 'call', 'to', 'battle', 'though', 'embattled', 'we', 'are', 'but', 'a', 'call', 'to', 'bear', 'the', 'burden', 'of', 'a', 'long', 'twilight', 'struggle', 'year', 'in', 'and', 'year', 'out', 'rejoicing', 'in', 'hope', 'patient', 'in', 'tribulation', 'a', 'struggle', 'against', 'the', 'common', 'enemies', 'of', 'man', 'tyranny', 'poverty', 'disease', 'and', 'war', 'itself', 'can', 'we', 'forge', 'against', 'these', 'enemies', 'a', 'grand', 'and', 'global', 'alliance', 'north', 'and', 'south', 'east', 'and', 'west', 'that', 'can', 'assure', 'a', 'more', 'fruitful', 'life', 'for', 'all', 'mankind', 'will', 'you', 'join', 'in', 'that', 'historic', 'effort', 'in', 'the', 'long', 'history', 'of', 'the', 'world', 'only', 'a', 'few', 'generations', 'have', 'been', 'granted', 'the', 'role', 'of', 'defending', 'freedom', 'in', 'its', 'hour', 'of', 'maximum', 'danger', 'i', 'do', 'not', 'shrink', 'from', 'this', 'responsibility', 'i', 'welcome', 'it', 'i', 'do', 'not', 'believe', 'that', 'any', 'of', 'us', 'would', 'exchange', 'places', 'with', 'any', 'other', 'people', 'or', 'any', 'other', 'generation', 'the', 'energy', 'the', 'faith', 'the', 'devotion', 'which', 'we', 'bring', 'to', 'this', 'endeavor', 'will', 'light', 'our', 'country', 'and', 'all', 'who', 'serve', 'it', 'and', 'the', 'glow', 'from', 'that', 'fire', 'can', 'truly', 'light', 'the', 'world', 'and', 'so', 'my', 'fellow', 'americans', 'ask', 'not', 'what', 'your', 'country', 'can', 'do', 'for', 'you', 'ask', 'what', 'you', 'can', 'do', 'for', 'your', 'country', 'my', 'fellow', 'citizens', 'of', 'the', 'world', 'ask', 'not', 'what', 'america', 'will', 'do', 'for', 'you', 'but', 'what', 'together', 'we', 'can', 'do', 'for', 'the', 'freedom', 'of', 'man', 'finally', 'whether', 'you', 'are', 'citizens', 'of', 'america', 'or', 'citizens', 'of', 'the', 'world', 'ask', 'of', 'us', 'the', 'same', 'high', 'standards', 'of', 'strength', 'and', 'sacrifice', 'which', 'we', 'ask', 'of', 'you', 'with', 'a', 'good', 'conscience', 'our', 'only', 'sure', 'reward', 'with', 'history', 'the', 'final', 'judge', 'of', 'our', 'deeds', 'let', 'us', 'go', 'forth', 'to', 'lead', 'the', 'land', 'we', 'love', 'asking', 'his', 'blessing', 'and', 'his', 'help', 'but', 'knowing', 'that', 'here', 'on', 'earth', 'god', 's', 'work', 'must', 'truly', 'be', 'our', 'own']\n"
     ]
    }
   ],
   "source": [
    "tokens1 = nltk.word_tokenize(K)\n",
    "print(tokens1)"
   ]
  },
  {
   "cell_type": "code",
   "execution_count": 37,
   "id": "b7a48323",
   "metadata": {},
   "outputs": [],
   "source": [
    "## Stop words -  Removing words that are not useful or Removing meaningless words \n",
    "from nltk.corpus import stopwords\n",
    "en_stop = stopwords.words('english')\n",
    "stopped_tokens1 = [i for i in tokens1 if not i in en_stop]"
   ]
  },
  {
   "cell_type": "code",
   "execution_count": 38,
   "id": "39fe6e5d",
   "metadata": {},
   "outputs": [
    {
     "data": {
      "text/plain": [
       "688"
      ]
     },
     "execution_count": 38,
     "metadata": {},
     "output_type": "execute_result"
    }
   ],
   "source": [
    "len(stopped_tokens1)"
   ]
  },
  {
   "cell_type": "code",
   "execution_count": 39,
   "id": "0e95516d",
   "metadata": {},
   "outputs": [
    {
     "name": "stdout",
     "output_type": "stream",
     "text": [
      "['mr', 'vice', 'president', 'mr', 'speaker', 'mr', 'chief', 'justice', 'senator', 'cook', 'mrs', 'eisenhower', 'and', 'my', 'fellow', 'citizens', 'of', 'this', 'great', 'and', 'good', 'country', 'we', 'share', 'together', 'when', 'we', 'met', 'here', 'four', 'years', 'ago', 'america', 'was', 'bleak', 'in', 'spirit', 'depressed', 'by', 'the', 'prospect', 'of', 'seemingly', 'endless', 'war', 'abroad', 'and', 'of', 'destructive', 'conflict', 'at', 'home', 'as', 'we', 'meet', 'here', 'today', 'we', 'stand', 'on', 'the', 'threshold', 'of', 'a', 'new', 'era', 'of', 'peace', 'in', 'the', 'world', 'the', 'central', 'question', 'before', 'us', 'is', 'how', 'shall', 'we', 'use', 'that', 'peace', 'let', 'us', 'resolve', 'that', 'this', 'era', 'we', 'are', 'about', 'to', 'enter', 'will', 'not', 'be', 'what', 'other', 'postwar', 'periods', 'have', 'so', 'often', 'been', 'a', 'time', 'of', 'retreat', 'and', 'isolation', 'that', 'leads', 'to', 'stagnation', 'at', 'home', 'and', 'invites', 'new', 'danger', 'abroad', 'let', 'us', 'resolve', 'that', 'this', 'will', 'be', 'what', 'it', 'can', 'become', 'a', 'time', 'of', 'great', 'responsibilities', 'greatly', 'borne', 'in', 'which', 'we', 'renew', 'the', 'spirit', 'and', 'the', 'promise', 'of', 'america', 'as', 'we', 'enter', 'our', 'third', 'century', 'as', 'a', 'nation', 'this', 'past', 'year', 'saw', 'far', 'reaching', 'results', 'from', 'our', 'new', 'policies', 'for', 'peace', 'by', 'continuing', 'to', 'revitalize', 'our', 'traditional', 'friendships', 'and', 'by', 'our', 'missions', 'to', 'peking', 'and', 'to', 'moscow', 'we', 'were', 'able', 'to', 'establish', 'the', 'base', 'for', 'a', 'new', 'and', 'more', 'durable', 'pattern', 'of', 'relationships', 'among', 'the', 'nations', 'of', 'the', 'world', 'because', 'of', 'america', 's', 'bold', 'initiatives', 'will', 'be', 'long', 'remembered', 'as', 'the', 'year', 'of', 'the', 'greatest', 'progress', 'since', 'the', 'end', 'of', 'world', 'war', 'ii', 'toward', 'a', 'lasting', 'peace', 'in', 'the', 'world', 'the', 'peace', 'we', 'seek', 'in', 'the', 'world', 'is', 'not', 'the', 'flimsy', 'peace', 'which', 'is', 'merely', 'an', 'interlude', 'between', 'wars', 'but', 'a', 'peace', 'which', 'can', 'endure', 'for', 'generations', 'to', 'come', 'it', 'is', 'important', 'that', 'we', 'understand', 'both', 'the', 'necessity', 'and', 'the', 'limitations', 'of', 'america', 's', 'role', 'in', 'maintaining', 'that', 'peace', 'unless', 'we', 'in', 'america', 'work', 'to', 'preserve', 'the', 'peace', 'there', 'will', 'be', 'no', 'peace', 'unless', 'we', 'in', 'america', 'work', 'to', 'preserve', 'freedom', 'there', 'will', 'be', 'no', 'freedom', 'but', 'let', 'us', 'clearly', 'understand', 'the', 'new', 'nature', 'of', 'america', 's', 'role', 'as', 'a', 'result', 'of', 'the', 'new', 'policies', 'we', 'have', 'adopted', 'over', 'these', 'past', 'four', 'years', 'we', 'shall', 'respect', 'our', 'treaty', 'commitments', 'we', 'shall', 'support', 'vigorously', 'the', 'principle', 'that', 'no', 'country', 'has', 'the', 'right', 'to', 'impose', 'its', 'will', 'or', 'rule', 'on', 'another', 'by', 'force', 'we', 'shall', 'continue', 'in', 'this', 'era', 'of', 'negotiation', 'to', 'work', 'for', 'the', 'limitation', 'of', 'nuclear', 'arms', 'and', 'to', 'reduce', 'the', 'danger', 'of', 'confrontation', 'between', 'the', 'great', 'powers', 'we', 'shall', 'do', 'our', 'share', 'in', 'defending', 'peace', 'and', 'freedom', 'in', 'the', 'world', 'but', 'we', 'shall', 'expect', 'others', 'to', 'do', 'their', 'share', 'the', 'time', 'has', 'passed', 'when', 'america', 'will', 'make', 'every', 'other', 'nation', 's', 'conflict', 'our', 'own', 'or', 'make', 'every', 'other', 'nation', 's', 'future', 'our', 'responsibility', 'or', 'presume', 'to', 'tell', 'the', 'people', 'of', 'other', 'nations', 'how', 'to', 'manage', 'their', 'own', 'affairs', 'just', 'as', 'we', 'respect', 'the', 'right', 'of', 'each', 'nation', 'to', 'determine', 'its', 'own', 'future', 'we', 'also', 'recognize', 'the', 'responsibility', 'of', 'each', 'nation', 'to', 'secure', 'its', 'own', 'future', 'just', 'as', 'america', 's', 'role', 'is', 'indispensable', 'in', 'preserving', 'the', 'world', 's', 'peace', 'so', 'is', 'each', 'nation', 's', 'role', 'indispensable', 'in', 'preserving', 'its', 'own', 'peace', 'together', 'with', 'the', 'rest', 'of', 'the', 'world', 'let', 'us', 'resolve', 'to', 'move', 'forward', 'from', 'the', 'beginnings', 'we', 'have', 'made', 'let', 'us', 'continue', 'to', 'bring', 'down', 'the', 'walls', 'of', 'hostility', 'which', 'have', 'divided', 'the', 'world', 'for', 'too', 'long', 'and', 'to', 'build', 'in', 'their', 'place', 'bridges', 'of', 'understanding', 'so', 'that', 'despite', 'profound', 'differences', 'between', 'systems', 'of', 'government', 'the', 'people', 'of', 'the', 'world', 'can', 'be', 'friends', 'let', 'us', 'build', 'a', 'structure', 'of', 'peace', 'in', 'the', 'world', 'in', 'which', 'the', 'weak', 'are', 'as', 'safe', 'as', 'the', 'strong', 'in', 'which', 'each', 'respects', 'the', 'right', 'of', 'the', 'other', 'to', 'live', 'by', 'a', 'different', 'system', 'in', 'which', 'those', 'who', 'would', 'influence', 'others', 'will', 'do', 'so', 'by', 'the', 'strength', 'of', 'their', 'ideas', 'and', 'not', 'by', 'the', 'force', 'of', 'their', 'arms', 'let', 'us', 'accept', 'that', 'high', 'responsibility', 'not', 'as', 'a', 'burden', 'but', 'gladly', 'gladly', 'because', 'the', 'chance', 'to', 'build', 'such', 'a', 'peace', 'is', 'the', 'noblest', 'endeavor', 'in', 'which', 'a', 'nation', 'can', 'engage', 'gladly', 'also', 'because', 'only', 'if', 'we', 'act', 'greatly', 'in', 'meeting', 'our', 'responsibilities', 'abroad', 'will', 'we', 'remain', 'a', 'great', 'nation', 'and', 'only', 'if', 'we', 'remain', 'a', 'great', 'nation', 'will', 'we', 'act', 'greatly', 'in', 'meeting', 'our', 'challenges', 'at', 'home', 'we', 'have', 'the', 'chance', 'today', 'to', 'do', 'more', 'than', 'ever', 'before', 'in', 'our', 'history', 'to', 'make', 'life', 'better', 'in', 'america', 'to', 'ensure', 'better', 'education', 'better', 'health', 'better', 'housing', 'better', 'transportation', 'a', 'cleaner', 'environment', 'to', 'restore', 'respect', 'for', 'law', 'to', 'make', 'our', 'communities', 'more', 'livable', 'and', 'to', 'insure', 'the', 'god', 'given', 'right', 'of', 'every', 'american', 'to', 'full', 'and', 'equal', 'opportunity', 'because', 'the', 'range', 'of', 'our', 'needs', 'is', 'so', 'great', 'because', 'the', 'reach', 'of', 'our', 'opportunities', 'is', 'so', 'great', 'let', 'us', 'be', 'bold', 'in', 'our', 'determination', 'to', 'meet', 'those', 'needs', 'in', 'new', 'ways', 'just', 'as', 'building', 'a', 'structure', 'of', 'peace', 'abroad', 'has', 'required', 'turning', 'away', 'from', 'old', 'policies', 'that', 'failed', 'so', 'building', 'a', 'new', 'era', 'of', 'progress', 'at', 'home', 'requires', 'turning', 'away', 'from', 'old', 'policies', 'that', 'have', 'failed', 'abroad', 'the', 'shift', 'from', 'old', 'policies', 'to', 'new', 'has', 'not', 'been', 'a', 'retreat', 'from', 'our', 'responsibilities', 'but', 'a', 'better', 'way', 'to', 'peace', 'and', 'at', 'home', 'the', 'shift', 'from', 'old', 'policies', 'to', 'new', 'will', 'not', 'be', 'a', 'retreat', 'from', 'our', 'responsibilities', 'but', 'a', 'better', 'way', 'to', 'progress', 'abroad', 'and', 'at', 'home', 'the', 'key', 'to', 'those', 'new', 'responsibilities', 'lies', 'in', 'the', 'placing', 'and', 'the', 'division', 'of', 'responsibility', 'we', 'have', 'lived', 'too', 'long', 'with', 'the', 'consequences', 'of', 'attempting', 'to', 'gather', 'all', 'power', 'and', 'responsibility', 'in', 'washington', 'abroad', 'and', 'at', 'home', 'the', 'time', 'has', 'come', 'to', 'turn', 'away', 'from', 'the', 'condescending', 'policies', 'of', 'paternalism', 'of', 'washington', 'knows', 'best', 'a', 'person', 'can', 'be', 'expected', 'to', 'act', 'responsibly', 'only', 'if', 'he', 'has', 'responsibility', 'this', 'is', 'human', 'nature', 'so', 'let', 'us', 'encourage', 'individuals', 'at', 'home', 'and', 'nations', 'abroad', 'to', 'do', 'more', 'for', 'themselves', 'to', 'decide', 'more', 'for', 'themselves', 'let', 'us', 'locate', 'responsibility', 'in', 'more', 'places', 'let', 'us', 'measure', 'what', 'we', 'will', 'do', 'for', 'others', 'by', 'what', 'they', 'will', 'do', 'for', 'themselves', 'that', 'is', 'why', 'today', 'i', 'offer', 'no', 'promise', 'of', 'a', 'purely', 'governmental', 'solution', 'for', 'every', 'problem', 'we', 'have', 'lived', 'too', 'long', 'with', 'that', 'false', 'promise', 'in', 'trusting', 'too', 'much', 'in', 'government', 'we', 'have', 'asked', 'of', 'it', 'more', 'than', 'it', 'can', 'deliver', 'this', 'leads', 'only', 'to', 'inflated', 'expectations', 'to', 'reduced', 'individual', 'effort', 'and', 'to', 'a', 'disappointment', 'and', 'frustration', 'that', 'erode', 'confidence', 'both', 'in', 'what', 'government', 'can', 'do', 'and', 'in', 'what', 'people', 'can', 'do', 'government', 'must', 'learn', 'to', 'take', 'less', 'from', 'people', 'so', 'that', 'people', 'an', 'do', 'more', 'for', 'themselves', 'let', 'us', 'remember', 'that', 'america', 'was', 'built', 'not', 'by', 'government', 'but', 'by', 'people', 'not', 'by', 'welfare', 'but', 'by', 'work', 'not', 'by', 'shirking', 'responsibility', 'but', 'by', 'seeking', 'responsibility', 'in', 'our', 'own', 'lives', 'let', 'each', 'of', 'us', 'ask', 'not', 'just', 'what', 'will', 'government', 'do', 'for', 'me', 'but', 'what', 'can', 'i', 'do', 'for', 'myself', 'in', 'the', 'challenges', 'we', 'face', 'together', 'let', 'each', 'of', 'us', 'ask', 'not', 'just', 'how', 'can', 'government', 'help', 'but', 'how', 'can', 'i', 'help', 'your', 'national', 'government', 'has', 'a', 'great', 'and', 'vital', 'role', 'to', 'play', 'and', 'i', 'pledge', 'to', 'you', 'that', 'where', 'this', 'government', 'should', 'act', 'we', 'will', 'act', 'boldly', 'and', 'we', 'will', 'lead', 'boldly', 'but', 'just', 'as', 'important', 'is', 'the', 'role', 'that', 'each', 'and', 'every', 'one', 'of', 'us', 'must', 'play', 'as', 'an', 'individual', 'and', 'as', 'a', 'member', 'of', 'his', 'own', 'community', 'from', 'this', 'day', 'forward', 'let', 'each', 'of', 'us', 'make', 'a', 'solemn', 'commitment', 'in', 'his', 'own', 'heart', 'to', 'bear', 'his', 'responsibility', 'to', 'do', 'his', 'part', 'to', 'live', 'his', 'ideals', 'so', 'that', 'together', 'we', 'can', 'see', 'the', 'dawn', 'of', 'a', 'new', 'age', 'of', 'progress', 'for', 'america', 'and', 'together', 'as', 'we', 'celebrate', 'our', 'th', 'anniversary', 'as', 'a', 'nation', 'we', 'can', 'do', 'so', 'proud', 'in', 'the', 'fulfillment', 'of', 'our', 'promise', 'to', 'ourselves', 'and', 'to', 'the', 'world', 'as', 'america', 's', 'longest', 'and', 'most', 'difficult', 'war', 'comes', 'to', 'an', 'end', 'let', 'us', 'again', 'learn', 'to', 'debate', 'our', 'differences', 'with', 'civility', 'and', 'decency', 'and', 'let', 'each', 'of', 'us', 'reach', 'out', 'for', 'that', 'one', 'precious', 'quality', 'government', 'can', 'not', 'provide', 'a', 'new', 'level', 'of', 'respect', 'for', 'the', 'rights', 'and', 'feelings', 'of', 'one', 'another', 'a', 'new', 'level', 'of', 'respect', 'for', 'the', 'individual', 'human', 'dignity', 'which', 'is', 'the', 'cherished', 'birthright', 'of', 'every', 'american', 'above', 'all', 'else', 'the', 'time', 'has', 'come', 'for', 'us', 'to', 'renew', 'our', 'faith', 'in', 'ourselves', 'and', 'in', 'america', 'in', 'recent', 'years', 'that', 'faith', 'has', 'been', 'challenged', 'our', 'children', 'have', 'been', 'taught', 'to', 'be', 'ashamed', 'of', 'their', 'country', 'ashamed', 'of', 'their', 'parents', 'ashamed', 'of', 'america', 's', 'record', 'at', 'home', 'and', 'of', 'its', 'role', 'in', 'the', 'world', 'at', 'every', 'turn', 'we', 'have', 'been', 'beset', 'by', 'those', 'who', 'find', 'everything', 'wrong', 'with', 'america', 'and', 'little', 'that', 'is', 'right', 'but', 'i', 'am', 'confident', 'that', 'this', 'will', 'not', 'be', 'the', 'judgment', 'of', 'history', 'on', 'these', 'remarkable', 'times', 'in', 'which', 'we', 'are', 'privileged', 'to', 'live', 'america', 's', 'record', 'in', 'this', 'century', 'has', 'been', 'unparalleled', 'in', 'the', 'world', 's', 'history', 'for', 'its', 'responsibility', 'for', 'its', 'generosity', 'for', 'its', 'creativity', 'and', 'for', 'its', 'progress', 'let', 'us', 'be', 'proud', 'that', 'our', 'system', 'has', 'produced', 'and', 'provided', 'more', 'freedom', 'and', 'more', 'abundance', 'more', 'widely', 'shared', 'than', 'any', 'other', 'system', 'in', 'the', 'history', 'of', 'the', 'world', 'let', 'us', 'be', 'proud', 'that', 'in', 'each', 'of', 'the', 'four', 'wars', 'in', 'which', 'we', 'have', 'been', 'engaged', 'in', 'this', 'century', 'including', 'the', 'one', 'we', 'are', 'now', 'bringing', 'to', 'an', 'end', 'we', 'have', 'fought', 'not', 'for', 'our', 'selfish', 'advantage', 'but', 'to', 'help', 'others', 'resist', 'aggression', 'let', 'us', 'be', 'proud', 'that', 'by', 'our', 'bold', 'new', 'initiatives', 'and', 'by', 'our', 'steadfastness', 'for', 'peace', 'with', 'honor', 'we', 'have', 'made', 'a', 'break', 'through', 'toward', 'creating', 'in', 'the', 'world', 'what', 'the', 'world', 'has', 'not', 'known', 'before', 'a', 'structure', 'of', 'peace', 'that', 'can', 'last', 'not', 'merely', 'for', 'our', 'time', 'but', 'for', 'generations', 'to', 'come', 'we', 'are', 'embarking', 'here', 'today', 'on', 'an', 'era', 'that', 'presents', 'challenges', 'great', 'as', 'those', 'any', 'nation', 'or', 'any', 'generation', 'has', 'ever', 'faced', 'we', 'shall', 'answer', 'to', 'god', 'to', 'history', 'and', 'to', 'our', 'conscience', 'for', 'the', 'way', 'in', 'which', 'we', 'use', 'these', 'years', 'as', 'i', 'stand', 'in', 'this', 'place', 'so', 'hallowed', 'by', 'history', 'i', 'think', 'of', 'others', 'who', 'have', 'stood', 'here', 'before', 'me', 'i', 'think', 'of', 'the', 'dreams', 'they', 'had', 'for', 'america', 'and', 'i', 'think', 'of', 'how', 'each', 'recognized', 'that', 'he', 'needed', 'help', 'far', 'beyond', 'himself', 'in', 'order', 'to', 'make', 'those', 'dreams', 'come', 'true', 'today', 'i', 'ask', 'your', 'prayers', 'that', 'in', 'the', 'years', 'ahead', 'i', 'may', 'have', 'god', 's', 'help', 'in', 'making', 'decisions', 'that', 'are', 'right', 'for', 'america', 'and', 'i', 'pray', 'for', 'your', 'help', 'so', 'that', 'together', 'we', 'may', 'be', 'worthy', 'of', 'our', 'challenge', 'let', 'us', 'pledge', 'together', 'to', 'make', 'these', 'next', 'four', 'years', 'the', 'best', 'four', 'years', 'in', 'america', 's', 'history', 'so', 'that', 'on', 'its', 'th', 'birthday', 'america', 'will', 'be', 'as', 'young', 'and', 'as', 'vital', 'as', 'when', 'it', 'began', 'and', 'as', 'bright', 'a', 'beacon', 'of', 'hope', 'for', 'all', 'the', 'world', 'let', 'us', 'go', 'forward', 'from', 'here', 'confident', 'in', 'hope', 'strong', 'in', 'our', 'faith', 'in', 'one', 'another', 'sustained', 'by', 'our', 'faith', 'in', 'god', 'who', 'created', 'us', 'and', 'striving', 'always', 'to', 'serve', 'his', 'purpose']\n"
     ]
    }
   ],
   "source": [
    "tokens2 = nltk.word_tokenize(N)\n",
    "print(tokens2)"
   ]
  },
  {
   "cell_type": "code",
   "execution_count": 40,
   "id": "2c97328d",
   "metadata": {},
   "outputs": [],
   "source": [
    "## Stop words -  Removing words that are not useful or Removing meaningless words \n",
    "from nltk.corpus import stopwords\n",
    "en_stop = stopwords.words('english')\n",
    "stopped_tokens2 = [i for i in tokens2 if not i in en_stop]"
   ]
  },
  {
   "cell_type": "code",
   "execution_count": 41,
   "id": "55ece214",
   "metadata": {},
   "outputs": [
    {
     "data": {
      "text/plain": [
       "833"
      ]
     },
     "execution_count": 41,
     "metadata": {},
     "output_type": "execute_result"
    }
   ],
   "source": [
    "len(stopped_tokens2)"
   ]
  },
  {
   "cell_type": "code",
   "execution_count": 42,
   "id": "6c1d0f26",
   "metadata": {},
   "outputs": [
    {
     "name": "stdout",
     "output_type": "stream",
     "text": [
      "['mr', 'vice', 'president', 'mr', 'speaker', 'mr', 'chief', 'justice', 'senator', 'cook', 'mrs', 'eisenhower', 'fellow', 'citizens', 'great']\n"
     ]
    }
   ],
   "source": [
    "print((stopped_tokens2)[:15])"
   ]
  },
  {
   "cell_type": "code",
   "execution_count": 43,
   "id": "eb96fc36",
   "metadata": {},
   "outputs": [
    {
     "name": "stdout",
     "output_type": "stream",
     "text": [
      "[['Mr', '.', 'Vice', 'President', ',', 'Mr', '.', 'Speaker', ',', 'Mr', '.', 'Chief', 'Justice', ',', 'Senator', 'Cook', ',', 'Mrs', '.', 'Eisenhower', ',', 'and', 'my', 'fellow', 'citizens', 'of', 'this', 'great', 'and', 'good', 'country', 'we', 'share', 'together', ':']]\n"
     ]
    }
   ],
   "source": [
    "print(inaugural.sents('1973-Nixon.txt')[:1])"
   ]
  },
  {
   "cell_type": "code",
   "execution_count": 44,
   "id": "7de18541",
   "metadata": {},
   "outputs": [
    {
     "name": "stdout",
     "output_type": "stream",
     "text": [
      "['vice', 'president', 'johnson', 'mr', 'speaker', 'mr', 'chief', 'justice', 'president', 'eisenhower', 'vice', 'president', 'nixon', 'president', 'truman']\n"
     ]
    }
   ],
   "source": [
    "print((stopped_tokens1)[:15])"
   ]
  },
  {
   "cell_type": "code",
   "execution_count": 45,
   "id": "c6491947",
   "metadata": {},
   "outputs": [
    {
     "name": "stdout",
     "output_type": "stream",
     "text": [
      "[['Vice', 'President', 'Johnson', ',', 'Mr', '.', 'Speaker', ',', 'Mr', '.', 'Chief', 'Justice', ',', 'President', 'Eisenhower', ',', 'Vice', 'President', 'Nixon', ',', 'President', 'Truman', ',', 'reverend', 'clergy', ',', 'fellow', 'citizens', ',', 'we', 'observe', 'today', 'not', 'a', 'victory', 'of', 'party', ',', 'but', 'a', 'celebration', 'of', 'freedom', '--', 'symbolizing', 'an', 'end', ',', 'as', 'well', 'as', 'a', 'beginning', '--', 'signifying', 'renewal', ',', 'as', 'well', 'as', 'change', '.']]\n"
     ]
    }
   ],
   "source": [
    "print(inaugural.sents('1961-Kennedy.txt')[:1])"
   ]
  },
  {
   "cell_type": "code",
   "execution_count": 46,
   "id": "6b01dfca",
   "metadata": {},
   "outputs": [
    {
     "name": "stdout",
     "output_type": "stream",
     "text": [
      "['national', 'day', 'inauguration', 'since', 'people', 'renewed', 'sense', 'dedication', 'united', 'states', 'washington', 'day', 'task', 'people', 'create']\n"
     ]
    }
   ],
   "source": [
    "print((stopped_tokens)[:15])"
   ]
  },
  {
   "cell_type": "code",
   "execution_count": 47,
   "id": "d3c770f0",
   "metadata": {},
   "outputs": [
    {
     "name": "stdout",
     "output_type": "stream",
     "text": [
      "[['On', 'each', 'national', 'day', 'of', 'inauguration', 'since', '1789', ',', 'the', 'people', 'have', 'renewed', 'their', 'sense', 'of', 'dedication', 'to', 'the', 'United', 'States', '.']]\n"
     ]
    }
   ],
   "source": [
    "print(inaugural.sents('1941-Roosevelt.txt')[:1])"
   ]
  },
  {
   "cell_type": "markdown",
   "id": "d43cde14",
   "metadata": {},
   "source": [
    "### 2.3 Which word occurs the most number of times in his inaugural address for each president? Mention the top three words. (after removing the stopwords) \n",
    "\n",
    "2.3) Which word occurs the most number of times in his inaugural address for each president? Mention the top three words. (after removing the stopwords)"
   ]
  },
  {
   "cell_type": "code",
   "execution_count": 48,
   "id": "b2b42d58",
   "metadata": {},
   "outputs": [
    {
     "name": "stderr",
     "output_type": "stream",
     "text": [
      "[nltk_data] Downloading package wordnet to\n",
      "[nltk_data]     C:\\Users\\ADIL\\AppData\\Roaming\\nltk_data...\n",
      "[nltk_data]   Package wordnet is already up-to-date!\n"
     ]
    },
    {
     "data": {
      "text/plain": [
       "True"
      ]
     },
     "execution_count": 48,
     "metadata": {},
     "output_type": "execute_result"
    }
   ],
   "source": [
    "nltk.download('wordnet')"
   ]
  },
  {
   "cell_type": "code",
   "execution_count": 49,
   "id": "1aeb57e0",
   "metadata": {},
   "outputs": [
    {
     "name": "stderr",
     "output_type": "stream",
     "text": [
      "[nltk_data] Downloading package omw-1.4 to\n",
      "[nltk_data]     C:\\Users\\ADIL\\AppData\\Roaming\\nltk_data...\n",
      "[nltk_data]   Package omw-1.4 is already up-to-date!\n"
     ]
    },
    {
     "data": {
      "text/plain": [
       "True"
      ]
     },
     "execution_count": 49,
     "metadata": {},
     "output_type": "execute_result"
    }
   ],
   "source": [
    "nltk.download('omw-1.4')"
   ]
  },
  {
   "cell_type": "code",
   "execution_count": 50,
   "id": "5ece04fb",
   "metadata": {},
   "outputs": [],
   "source": [
    "## Stemming Using Lemmatizer -  Stem the words to its root word\n",
    "from nltk import WordNetLemmatizer\n",
    "lt = nltk.WordNetLemmatizer()\n",
    "texts = [lt.lemmatize(i) for i in stopped_tokens]"
   ]
  },
  {
   "cell_type": "code",
   "execution_count": 51,
   "id": "fd4f090f",
   "metadata": {},
   "outputs": [
    {
     "data": {
      "text/plain": [
       "[('nation', 15), ('life', 11), ('know', 10)]"
      ]
     },
     "execution_count": 51,
     "metadata": {},
     "output_type": "execute_result"
    }
   ],
   "source": [
    "## Top 3 frequency occuring words\n",
    "Roosevelta_3 = nltk.FreqDist(texts).most_common(3)\n",
    "Roosevelta_3"
   ]
  },
  {
   "cell_type": "code",
   "execution_count": 52,
   "id": "0c929a15",
   "metadata": {},
   "outputs": [],
   "source": [
    "lt = nltk.WordNetLemmatizer()\n",
    "texts1 = [lt.lemmatize(i) for i in stopped_tokens1]"
   ]
  },
  {
   "cell_type": "code",
   "execution_count": 53,
   "id": "79ff9b9a",
   "metadata": {},
   "outputs": [
    {
     "data": {
      "text/plain": [
       "[('let', 16), ('u', 12), ('world', 8)]"
      ]
     },
     "execution_count": 53,
     "metadata": {},
     "output_type": "execute_result"
    }
   ],
   "source": [
    "## Top 3 frequency occuring words\n",
    "Kennedy_3 = nltk.FreqDist(texts1).most_common(3)\n",
    "Kennedy_3"
   ]
  },
  {
   "cell_type": "code",
   "execution_count": 54,
   "id": "c08eddf7",
   "metadata": {},
   "outputs": [],
   "source": [
    "lt = nltk.WordNetLemmatizer()\n",
    "texts2 = [lt.lemmatize(i) for i in stopped_tokens2]"
   ]
  },
  {
   "cell_type": "code",
   "execution_count": 55,
   "id": "6d2ab4f4",
   "metadata": {},
   "outputs": [
    {
     "data": {
      "text/plain": [
       "[('u', 26), ('let', 22), ('america', 21)]"
      ]
     },
     "execution_count": 55,
     "metadata": {},
     "output_type": "execute_result"
    }
   ],
   "source": [
    "## Top 3 frequency occuring words\n",
    "Nixon_3 = nltk.FreqDist(texts2).most_common(3)\n",
    "Nixon_3"
   ]
  },
  {
   "cell_type": "markdown",
   "id": "00b3cdad",
   "metadata": {},
   "source": [
    "### 2.4 Plot the word cloud of each of the speeches of the variable. (after removing the stopwords)\n",
    "\n",
    "2.4) Plot the word cloud of each of the three speeches. (after removing the stopwords)"
   ]
  },
  {
   "cell_type": "code",
   "execution_count": 56,
   "id": "c54a1ad6",
   "metadata": {},
   "outputs": [
    {
     "data": {
      "image/png": "[encoded data removed]",
      "text/plain": [
       "<Figure size 640x480 with 1 Axes>"
      ]
     },
     "metadata": {},
     "output_type": "display_data"
    }
   ],
   "source": [
    "## Plotting the top 30 words occuring frequently\n",
    "nltk.FreqDist(texts).plot(30);"
   ]
  },
  {
   "cell_type": "code",
   "execution_count": 57,
   "id": "48f7e5d3",
   "metadata": {},
   "outputs": [
    {
     "data": {
      "image/png": "[encoded data removed]",
      "text/plain": [
       "<Figure size 640x480 with 1 Axes>"
      ]
     },
     "metadata": {},
     "output_type": "display_data"
    }
   ],
   "source": [
    "## Plotting the top 30 words occuring frequently\n",
    "nltk.FreqDist(texts1).plot(30);"
   ]
  },
  {
   "cell_type": "code",
   "execution_count": 58,
   "id": "5ae87ca0",
   "metadata": {},
   "outputs": [
    {
     "data": {
      "image/png": "[encoded data removed]",
      "text/plain": [
       "<Figure size 640x480 with 1 Axes>"
      ]
     },
     "metadata": {},
     "output_type": "display_data"
    }
   ],
   "source": [
    "## Plotting the top 30 words occuring frequently\n",
    "nltk.FreqDist(texts2).plot(30);"
   ]
  },
  {
   "cell_type": "code",
   "execution_count": null,
   "id": "2c46a990",
   "metadata": {},
   "outputs": [],
   "source": []
  }
 ],
 "metadata": {
  "kernelspec": {
   "display_name": "Python 3 (ipykernel)",
   "language": "python",
   "name": "python3"
  },
  "language_info": {
   "codemirror_mode": {
    "name": "ipython",
    "version": 3
   },
   "file_extension": ".py",
   "mimetype": "text/x-python",
   "name": "python",
   "nbconvert_exporter": "python",
   "pygments_lexer": "ipython3",
   "version": "3.11.5"
  }
 },
 "nbformat": 4,
 "nbformat_minor": 5
}
